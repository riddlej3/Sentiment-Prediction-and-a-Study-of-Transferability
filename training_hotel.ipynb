{
 "cells": [
  {
   "cell_type": "code",
   "execution_count": 93,
   "metadata": {},
   "outputs": [],
   "source": [
    "import pandas as pd\n",
    "import numpy as np\n",
    "import matplotlib.pyplot as plt\n",
    "from scipy import stats\n",
    "import seaborn as sns\n",
    "\n",
    "from nltk.corpus import stopwords\n",
    "from nltk.tokenize import word_tokenize \n",
    "from sklearn.feature_extraction.text import CountVectorizer,TfidfVectorizer\n",
    "from sklearn.model_selection import train_test_split\n",
    "from sklearn.naive_bayes import MultinomialNB\n",
    "from sklearn.metrics import confusion_matrix\n",
    "from sklearn.metrics import classification_report\n",
    "from keras.preprocessing.text import Tokenizer\n",
    "from keras.preprocessing.sequence import pad_sequences\n",
    "from keras.models import load_model\n",
    "from sklearn.preprocessing import OneHotEncoder\n",
    "import nltk\n",
    "import json\n",
    "\n",
    "import tensorflow as tf\n",
    "\n",
    "from functions import sample_mean\n",
    "from lists import stop_words,noise\n",
    "from plots import model_plots\n",
    "import string\n",
    "import warnings\n",
    "import os\n",
    "os.chdir('/home/ubuntu/Notebooks/capstone/')\n",
    "\n",
    "%matplotlib inline\n",
    "punctuation = set(string.punctuation)\n",
    "sws = stop_words().get_sws()\n",
    "noise = noise().get_noise()\n",
    "keras = tf.keras\n",
    "pd.options.display.max_rows = 200\n",
    "\n",
    "warnings.filterwarnings('ignore')\n",
    "pd.set_option('display.max_columns',500)\n",
    "\n",
    "listings = pd.read_pickle('~/Notebooks/data/listings.pickle')\n",
    "# reviews = pd.read_pickle('~/Desktop/g.school/data/reviews.pickle')\n",
    "hotels = pd.read_pickle('data/hotels.pickle')\n",
    "\n",
    "hotels = pd.read_pickle('data/hotels.pickle')\n",
    "hotels = hotels.drop('reviews.id',axis=1)[hotels['language']=='en']\n",
    "hotels['reviews.rating'] = hotels['reviews.rating'].replace(1.0,2.0).replace(0.0,2.0)"
   ]
  },
  {
   "cell_type": "code",
   "execution_count": 94,
   "metadata": {},
   "outputs": [
    {
     "name": "stdout",
     "output_type": "stream",
     "text": [
      "32288\n"
     ]
    },
    {
     "data": {
      "image/png": "[encoded data removed]",
      "text/plain": [
       "<Figure size 1080x288 with 1 Axes>"
      ]
     },
     "metadata": {},
     "output_type": "display_data"
    }
   ],
   "source": [
    "text_sample_pct = 3/3\n",
    "np.random.seed(8)\n",
    "\n",
    "# bad_examples = hotels.iloc[noise][['reviews.text','reviews.rating']]\n",
    "hotel_text = hotels[['reviews.rating','reviews.text']]\n",
    "hotel_text = hotel_text.reset_index().drop('index',axis=1)\n",
    "\n",
    "hotel_text.at[18912,'reviews.rating'] = 3\n",
    "hotel_text.at[29692,'reviews.rating'] = 2\n",
    "hotel_text.at[7692,'reviews.rating'] = 2\n",
    "hotel_text.at[24320,'reviews.rating'] = 2\n",
    "hotel_text.at[8792,'reviews.rating'] = 5\n",
    "hotel_text.at[18932,'reviews.rating'] = 2\n",
    "hotel_text.at[26350,'reviews.rating'] = 5\n",
    "\n",
    "hotel_text.at[32236,'reviews.rating'] = 5\n",
    "hotel_text.at[26129,'reviews.rating'] = 5\n",
    "hotel_text.at[26189,'reviews.rating'] = 5\n",
    "hotel_text.at[7660,'reviews.rating'] = 5\n",
    "hotel_text.at[18724,'reviews.rating'] = 2\n",
    "hotel_text.at[7222,'reviews.rating'] = 2\n",
    "hotel_text.at[18995,'reviews.rating'] = 5\n",
    "hotel_text.at[25296,'reviews.rating'] = 5\n",
    "\n",
    "\n",
    "\n",
    "hotel_text.at[28442,'reviews.rating'] = 2\n",
    "hotel_text.at[14943,'reviews.rating'] = 5\n",
    "hotel_text.at[8245,'reviews.rating'] = 2\n",
    "hotel_text.at[26237,'reviews.rating'] = 3\n",
    "hotel_text.at[16875,'reviews.rating'] = 2\n",
    "hotel_text.at[23588,'reviews.rating'] = 5\n",
    "hotel_text.at[29937,'reviews.rating'] = 3\n",
    "hotel_text.at[1285,'reviews.rating'] = 2\n",
    "hotel_text.at[29573,'reviews.rating'] = 2\n",
    "hotel_text.at[29273,'reviews.rating'] = 5\n",
    "hotel_text.at[8550,'reviews.rating'] = 5\n",
    "hotel_text.at[8652,'reviews.rating'] = 5\n",
    "hotel_text.at[1213,'reviews.rating'] = 3\n",
    "\n",
    "\n",
    "\n",
    "\n",
    "\n",
    "hotel_text.at[30685,'reviews.rating'] = 5\n",
    "hotel_text.at[28670,'reviews.rating'] = 3\n",
    "hotel_text.at[14548,'reviews.rating'] = 3\n",
    "hotel_text.at[32029,'reviews.rating'] = 3\n",
    "hotel_text.at[11428,'reviews.rating'] = 2\n",
    "hotel_text.at[16913,'reviews.rating'] = 5\n",
    "hotel_text.at[23588,'reviews.rating'] = 5\n",
    "\n",
    "hotel_text.at[30685,'reviews.rating'] = 5\n",
    "hotel_text.at[28670,'reviews.rating'] = 3\n",
    "hotel_text.at[14548,'reviews.rating'] = 3\n",
    "hotel_text.at[32029,'reviews.rating'] = 3\n",
    "hotel_text.at[11428,'reviews.rating'] = 2\n",
    "hotel_text.at[16913,'reviews.rating'] = 5\n",
    "hotel_text.at[16937,'reviews.rating'] = 2\n",
    "hotel_text.at[21459,'reviews.rating'] = 5\n",
    "hotel_text.at[32214,'reviews.rating'] = 5\n",
    "hotel_text.at[29777,'reviews.rating'] = 2\n",
    "hotel_text.at[24180,'reviews.rating'] = 2\n",
    "hotel_text.at[19261,'reviews.rating'] = 5\n",
    "hotel_text.at[18589,'reviews.rating'] = 5\n",
    "hotel_text.at[3343,'reviews.rating'] = 2\n",
    "hotel_text.at[26033,'reviews.rating'] = 5\n",
    "hotel_text.at[29863,'reviews.rating'] = 3\n",
    "hotel_text.at[30099,'reviews.rating'] = 5\n",
    "hotel_text.at[11435,'reviews.rating'] = 3\n",
    "hotel_text.at[18257,'reviews.rating'] = 5\n",
    "hotel_text.at[19260,'reviews.rating'] = 5\n",
    "hotel_text.at[8553,'reviews.rating'] = 5\n",
    "hotel_text.at[17376,'reviews.rating'] = 5\n",
    "\n",
    "hotel_text.at[11634,'reviews.rating'] = 5\n",
    "hotel_text.at[11306,'reviews.rating'] = 5\n",
    "hotel_text.at[18948,'reviews.rating'] = 3\n",
    "hotel_text.at[9811,'reviews.rating'] = 5\n",
    "hotel_text.at[9891,'reviews.rating'] = 5\n",
    "hotel_text.at[25934,'reviews.rating'] = 5\n",
    "hotel_text.at[16651,'reviews.rating'] = 3\n",
    "hotel_text.at[24702,'reviews.rating'] = 2\n",
    "hotel_text.at[26114,'reviews.rating'] = 5\n",
    "hotel_text.at[18532,'reviews.rating'] = 2\n",
    "hotel_text.at[30049,'reviews.rating'] = 5\n",
    "hotel_text.at[7238,'reviews.rating'] = 2\n",
    "hotel_text.at[14448,'reviews.rating'] = 3\n",
    "hotel_text.at[18795,'reviews.rating'] = 3\n",
    "hotel_text.at[3435,'reviews.rating'] = 5\n",
    "hotel_text.at[7882,'reviews.rating'] = 2\n",
    "hotel_text.at[24577,'reviews.rating'] = 2\n",
    "hotel_text.at[6386,'reviews.rating'] = 2\n",
    "\n",
    "plt.figure(figsize=(15,4))\n",
    "hotel_text['reviews.rating'] = hotel_text['reviews.rating'].astype(int).replace(0,1)\n",
    "hotel_text['reviews.text'] = [' '.join([word.lower() for word in sent.split()\\\n",
    "                                        if word not in punctuation]) for sent in hotel_text['reviews.text']]\n",
    "score_counts = hotel_text['reviews.rating'].value_counts().sort_index()\n",
    "review_distribution = score_counts/score_counts.sum()\n",
    "\n",
    "plt.bar(range(review_distribution.shape[0]),review_distribution.sort_index().values)\n",
    "for i,v in enumerate(review_distribution.sort_index().values):\n",
    "    plt.text(i,v+.01,round(v,2),horizontalalignment='center')\n",
    "    plt.text(i,v+.04,score_counts.iloc[i],horizontalalignment='center')\n",
    "plt.title('Score Proportions with Total Counts')\n",
    "plt.xlabel('Score')\n",
    "plt.ylabel('Proportion of total')\n",
    "\n",
    "plt.ylim(0,.6)\n",
    "print(hotel_text.shape[0])\n",
    "pd.set_option('max_colwidth', 200)"
   ]
  },
  {
   "cell_type": "code",
   "execution_count": 95,
   "metadata": {},
   "outputs": [],
   "source": [
    "reviews = pd.read_pickle('~/Notebooks/data/reviews.pickle').drop_duplicates()\n",
    "reviews = reviews[(~reviews['comments'].isna())]\n",
    "listings = pd.read_pickle('~/Notebooks/data/listings.pickle')\n",
    "index_mask = listings['summary'].dropna().index.unique()\n",
    "listings = listings.loc[index_mask][listings['country_code']=='US'].drop_duplicates()\n",
    "unique_listings = listings.groupby('id')[['review_scores_rating']].\\\n",
    "                                    agg('min').dropna().sample(frac=(1/8),random_state=3)\n",
    "unique_listings['score'] = unique_listings['review_scores_rating'].\\\n",
    "                                    div(20).round().replace(0,1)\n",
    "\n",
    "new_reviews = reviews.copy()\n",
    "new_reviews = new_reviews.join(unique_listings['score'],how='inner').reset_index().set_index('id')\n",
    "new_reviews[['index','listing_id', 'date', 'reviewer_id', 'reviewer_name', 'comments', 'score']]\n",
    "new_reviews = new_reviews.loc[~new_reviews.index.duplicated(keep='first')]\n",
    "new_reviews['comments'] = [' '.join([word.lower() for word in sent.split()\\\n",
    "                                         if word not in punctuation]) for sent in new_reviews['comments']]\n",
    "\n",
    "hotel_X = hotel_text[['reviews.text']]\n",
    "hotel_X['train_test'] = 'Train'\n",
    "hotel_X.columns = ['review','train_test']\n",
    "abnb_X = new_reviews[['comments']]\n",
    "abnb_X['train_test']= 'Test'\n",
    "abnb_X.columns = ['review','train_test']\n",
    "df_X = pd.concat([abnb_X,hotel_X],axis=0,ignore_index=False).reset_index()\n"
   ]
  },
  {
   "cell_type": "code",
   "execution_count": 96,
   "metadata": {
    "scrolled": true
   },
   "outputs": [
    {
     "name": "stdout",
     "output_type": "stream",
     "text": [
      "Training Accuracy 0.67\n",
      "mnb Accuracy 0.577\n",
      "mnb Distribution Accuracy 0.859\n",
      "mnb Error Accuracy 0.904\n"
     ]
    },
    {
     "data": {
      "image/png": "[encoded data removed]",
      "text/plain": [
       "<Figure size 1440x432 with 2 Axes>"
      ]
     },
     "metadata": {},
     "output_type": "display_data"
    }
   ],
   "source": [
    "from sklearn.naive_bayes import MultinomialNB\n",
    "from sklearn.preprocessing import MinMaxScaler\n",
    "ss = MinMaxScaler()\n",
    "nb = MultinomialNB()\n",
    "\n",
    "\n",
    "X = df_X['review']\n",
    "X_metrics = hotel_text['reviews.text']\n",
    "y = hotel_text['reviews.rating']\n",
    "\n",
    "X_char_count = X_metrics.apply(len)\n",
    "X_word_count = X_metrics.apply(lambda x: len(x.split()))\n",
    "X_word_density = X_char_count/X_word_count\n",
    "X_punctuation_count = X_metrics.apply(lambda x: len([_ for _ in x if _ in set(string.punctuation)]))\n",
    "X_title_word_count = X_metrics.apply(lambda x: len([wrd for wrd in x.split() if wrd.istitle()]))\n",
    "X_uppercase_count = X_metrics.apply(lambda x: len([wrd for wrd in x.split() if wrd.isupper()]))\n",
    "\n",
    "\n",
    "\n",
    "count = CountVectorizer(stop_words=sws,ngram_range=(1,1))\n",
    "tfidf = TfidfVectorizer(stop_words=sws)\n",
    "X = count.fit_transform(X).toarray()[df_X[df_X['train_test']=='Train'].index]\n",
    "\n",
    "X = np.c_[X,X_char_count,\n",
    "                       X_word_count,\n",
    "                       X_word_density,\n",
    "                       X_punctuation_count,\n",
    "                       X_title_word_count,\n",
    "                       X_uppercase_count]\n",
    "\n",
    "x_train,x_test,y_train,y_test = train_test_split(X,y,stratify=y,test_size=.15)\n",
    "\n",
    "nb.fit(x_train,y_train)\n",
    "ypred = pd.Series(nb.predict(x_test),index=y_test.index)\n",
    "ypred_train = nb.predict(x_train)\n",
    "# print('Test: ',(ypred - y_test).value_counts().max()/(ypred - y_test).value_counts().sum())\n",
    "# print('Train: ',(ypred_test - y_train).value_counts().max()/(ypred_test - y_train).value_counts().sum())\n",
    "mnb_plots = model_plots()\n",
    "\n",
    "\n",
    "mnb_plots.model_to_actual_plot(hotel_text,\n",
    "                              y_test,\n",
    "                              ypred,\n",
    "                              'Actual',\n",
    "                              'Multinomial with Custom Stop Words Naive Bayes Score',\n",
    "                              'MNB to Actual Score Distribution')\n",
    "mnb_plots.error_plot(hotel_text,ypred,y_test,'Error','total count')\n",
    "\n",
    "accuracy_mnb = (ypred == y_test).mean().round(3)\n",
    "distribution_error_mnb = (ypred.sub(y_test).abs().sum()/y_test.sum()).round(3)\n",
    "error_accuracy_mnb = ((y_test.sub(ypred)).lt(2) & (y_test.sub(ypred)).gt(-2)).mean().round(3)\n",
    "training_accuracy_mnb = round((ypred_train - y_train).value_counts().max()/(ypred_train - y_train).value_counts().sum(),2)\n",
    "\n",
    "print('Training Accuracy',training_accuracy_mnb)\n",
    "print('mnb Accuracy',accuracy_mnb)\n",
    "print('mnb Distribution Accuracy',1-distribution_error_mnb)\n",
    "print('mnb Error Accuracy',error_accuracy_mnb.round(3))"
   ]
  },
  {
   "cell_type": "code",
   "execution_count": 97,
   "metadata": {},
   "outputs": [
    {
     "data": {
      "text/plain": [
       "array([[3.29961959e-06, 1.02446494e-02, 9.14399855e-01, 7.53521956e-02],\n",
       "       [1.03744466e-03, 1.86162782e-02, 2.76458731e-01, 7.03887546e-01],\n",
       "       [2.71116113e-01, 2.57886300e-01, 2.92500194e-01, 1.78497392e-01],\n",
       "       [9.63822558e-02, 1.91300043e-01, 5.85557591e-01, 1.26760111e-01],\n",
       "       [9.44344448e-01, 4.81644456e-02, 7.38398855e-03, 1.07117985e-04]])"
      ]
     },
     "execution_count": 97,
     "metadata": {},
     "output_type": "execute_result"
    }
   ],
   "source": [
    "nb.predict_proba(x_test)[:5]"
   ]
  },
  {
   "cell_type": "code",
   "execution_count": 98,
   "metadata": {},
   "outputs": [
    {
     "data": {
      "text/plain": [
       "array([4, 5, 4, 4, 2])"
      ]
     },
     "execution_count": 98,
     "metadata": {},
     "output_type": "execute_result"
    }
   ],
   "source": [
    "nb.predict(x_test)[:5]"
   ]
  },
  {
   "cell_type": "code",
   "execution_count": 99,
   "metadata": {},
   "outputs": [
    {
     "name": "stdout",
     "output_type": "stream",
     "text": [
      "svdlr Training Accuracy 0.6\n",
      "svdlr Accuracy 0.578\n",
      "svdlr Distribution Accuracy 0.856\n",
      "svdlr Error Accuracy 0.9\n"
     ]
    },
    {
     "data": {
      "image/png": "[encoded data removed]",
      "text/plain": [
       "<Figure size 1440x432 with 2 Axes>"
      ]
     },
     "metadata": {},
     "output_type": "display_data"
    }
   ],
   "source": [
    "from sklearn.decomposition import TruncatedSVD\n",
    "from sklearn.preprocessing import StandardScaler,MinMaxScaler\n",
    "from sklearn.linear_model import LogisticRegression\n",
    "\n",
    "\n",
    "X = hotel_text['reviews.text']\n",
    "y = hotel_text['reviews.rating']\n",
    "\n",
    "count = CountVectorizer(stop_words=sws)\n",
    "tfidf = TfidfVectorizer(stop_words=sws)\n",
    "# X = tfidf.fit_transform(X).toarray()\n",
    "X = tfidf.fit_transform(X).toarray()\n",
    "\n",
    "\n",
    "\n",
    "\n",
    "svd = TruncatedSVD(n_components=400,random_state=0,n_iter=1)\n",
    "svd_topics_vectors = svd.fit_transform(X)\n",
    "# X = np.c_[svd_topics_vectors,hotel_text['word_count']]\n",
    "#X = StandardScaler().fit_transform(svd_topics_vectors)\n",
    "\n",
    "\n",
    "x_train,x_test,y_train,y_test = train_test_split(svd_topics_vectors,y,stratify=y,test_size=.30)\n",
    "\n",
    "\n",
    "lr = LogisticRegression(random_state=3)\n",
    "lr.fit(x_train,y_train)\n",
    "\n",
    "ypred = pd.Series(lr.predict(x_test),index=y_test.index)\n",
    "ypred_train = lr.predict(x_train)\n",
    "# print('Test: ',(ypred - y_test).value_counts().max()/(ypred - y_test).value_counts().sum())\n",
    "# print('Train: ',(ypred_test - y_train).value_counts().max()/(ypred_test - y_train).value_counts().sum())\n",
    "lr_plots = model_plots()\n",
    "\n",
    "\n",
    "lr_plots.model_to_actual_plot(hotel_text,\n",
    "                              y_test,\n",
    "                              ypred,\n",
    "                              'Actual',\n",
    "                              'SVG LR Score',\n",
    "                              'SVG LR to Actual Score Distribution')\n",
    "lr_plots.error_plot(hotel_text,ypred,y_test,'Error','total count')\n",
    "\n",
    "accuracy_svdlr = (ypred == y_test).mean().round(3)\n",
    "distribution_error_svdlr = (ypred.sub(y_test).abs().sum()/y_test.sum()).round(3)\n",
    "error_accuracy_svdlr = ((y_test.sub(ypred)).lt(2) & (y_test.sub(ypred)).gt(-2)).mean().round(3)\n",
    "training_accuracy_svdlr = round((ypred_train - y_train).value_counts().max()/(ypred_train - y_train).value_counts().sum(),2)\n",
    "\n",
    "print('svdlr Training Accuracy',training_accuracy_svdlr)\n",
    "print('svdlr Accuracy',accuracy_svdlr)\n",
    "print('svdlr Distribution Accuracy',1-distribution_error_svdlr)\n",
    "print('svdlr Error Accuracy',error_accuracy_svdlr.round(3))"
   ]
  },
  {
   "cell_type": "markdown",
   "metadata": {},
   "source": [
    "# WORD EMBEDDING PREP"
   ]
  },
  {
   "cell_type": "code",
   "execution_count": 100,
   "metadata": {},
   "outputs": [],
   "source": [
    "from gensim.models.keyedvectors import KeyedVectors\n",
    "word_vectors = KeyedVectors.load_word2vec_format('../data/GoogleNews-vectors-negative300.bin.gz',\n",
    "                                                 binary=True,\n",
    "                                                 limit=2000000)"
   ]
  },
  {
   "cell_type": "code",
   "execution_count": 101,
   "metadata": {},
   "outputs": [
    {
     "data": {
      "text/plain": [
       "'Kitchen'"
      ]
     },
     "execution_count": 101,
     "metadata": {},
     "output_type": "execute_result"
    }
   ],
   "source": [
    "word_vectors.doesnt_match(['Germany','Europe','Kitchen'])"
   ]
  },
  {
   "cell_type": "code",
   "execution_count": 102,
   "metadata": {
    "scrolled": false
   },
   "outputs": [],
   "source": [
    "from keras.preprocessing.text import Tokenizer\n",
    "from keras.preprocessing.sequence import pad_sequences\n",
    "from sklearn.model_selection import train_test_split\n",
    "from nltk.stem import WordNetLemmatizer\n",
    "\n",
    "\n",
    "X = hotel_text['reviews.text']\n",
    "y = hotel_text['reviews.rating']\n",
    "x_train,x_valid,y_train,y_valid = train_test_split(X,y,test_size=.15)"
   ]
  },
  {
   "cell_type": "code",
   "execution_count": 103,
   "metadata": {},
   "outputs": [],
   "source": [
    "##### Sentence Metrics\n",
    "X_char_count = X.apply(len)\n",
    "X_word_count = X.apply(lambda x: len(x.split()))\n",
    "X_word_density = X_char_count/X_word_count\n",
    "X_punctuation_count = X.apply(lambda x: len([_ for _ in x if _ in set(string.punctuation)]))\n",
    "X_title_word_count = X.apply(lambda x: len([wrd for wrd in x.split() if wrd.istitle()]))\n",
    "X_uppercase_count = X.apply(lambda x: len([wrd for wrd in x.split() if wrd.isupper()]))"
   ]
  },
  {
   "cell_type": "code",
   "execution_count": 104,
   "metadata": {},
   "outputs": [],
   "source": [
    "# wiki_news_vec_file = open('../data/wiki-news-300d-1M.vec')"
   ]
  },
  {
   "cell_type": "code",
   "execution_count": 105,
   "metadata": {},
   "outputs": [],
   "source": [
    "def embedding_matrix(sequences,embedding_length):\n",
    "    embedding_mat = np.zeros((sequences.shape[0],sequences.shape[1],embedding_length))\n",
    "    zero_vector = np.zeros((300,))\n",
    "    for i,seq in enumerate(sequences):\n",
    "        for idx,num in enumerate(seq):\n",
    "            try:\n",
    "                embedding_mat[i][idx] = word_vectors.get_vector(reverse_word_index[num])\n",
    "            except:\n",
    "                embedding_mat[i][idx] = zero_vector\n",
    "\n",
    "    return embedding_mat"
   ]
  },
  {
   "cell_type": "code",
   "execution_count": 106,
   "metadata": {},
   "outputs": [],
   "source": [
    "maxlen = 50\n",
    "training_samples = x_train.shape[0]\n",
    "validation_samples = x_valid.shape[0]\n",
    "batch_size = 25\n",
    "embedding_dims = 300\n",
    "epochs = 2\n",
    "embedding_dim = 300\n",
    "\n",
    "from keras.preprocessing.text import Tokenizer\n",
    "from keras.preprocessing.sequence import pad_sequences\n",
    "import nltk\n",
    "\n",
    "token = Tokenizer(char_level=False,lower=True)\n",
    "token.fit_on_texts(X)\n",
    "# tokenize.texts_to_sequences(x_train.iloc[0])\n",
    "x_train_seq = pad_sequences(token.texts_to_sequences(x_train),maxlen=maxlen)\n",
    "x_valid_seq = pad_sequences(token.texts_to_sequences(x_valid),maxlen=maxlen)\n",
    "\n",
    "word_index = token.word_index"
   ]
  },
  {
   "cell_type": "code",
   "execution_count": 107,
   "metadata": {},
   "outputs": [],
   "source": [
    "embedding_matrix = np.zeros((max_words,embedding_dims))\n",
    "for word,i in word_index.items():\n",
    "    if i < max_words:\n",
    "        try:\n",
    "            embedding_vector = word_vectors.get_vector(word)\n",
    "            if embedding_vector is not None:\n",
    "                embedding_matrix[i] = embedding_vector\n",
    "        except:\n",
    "            pass\n"
   ]
  },
  {
   "cell_type": "code",
   "execution_count": 108,
   "metadata": {},
   "outputs": [],
   "source": [
    "ohe = OneHotEncoder()\n",
    "y_train_new = ohe.fit_transform(y_train.values.reshape(-1,1))\n",
    "y_valid_new = ohe.fit_transform(y_valid.values.reshape(-1,1))\n",
    "\n",
    "x_valid_seq2 = x_valid_seq.reshape(x_valid_seq.shape[0],x_valid_seq.shape[1],1)\n",
    "x_train_seq2 = x_train_seq.reshape(x_train_seq.shape[0],x_train_seq.shape[1],1)"
   ]
  },
  {
   "cell_type": "code",
   "execution_count": 110,
   "metadata": {},
   "outputs": [],
   "source": [
    "from keras.models import Sequential\n",
    "from keras.layers import Dense, Dropout, Flatten, LSTM, Embedding\n",
    "\n",
    "model2 = Sequential()\n",
    "model2.add(Embedding(max_words,embedding_dim,input_length=maxlen))\n",
    "model2.add(Dropout(rate=.1))\n",
    "model2.add(LSTM(batch_size,return_sequences=False))\n",
    "model2.add(Dense(4,activation='sigmoid'))\n",
    "model2.layers[0].set_weights([embedding_matrix])\n",
    "# model.layers[0].trainable = False"
   ]
  },
  {
   "cell_type": "code",
   "execution_count": 111,
   "metadata": {},
   "outputs": [
    {
     "name": "stdout",
     "output_type": "stream",
     "text": [
      "Train on 27444 samples, validate on 4844 samples\n",
      "Epoch 1/2\n",
      "27444/27444 [==============================] - 85s 3ms/step - loss: 1.0474 - acc: 0.5315 - val_loss: 0.9900 - val_acc: 0.5659\n",
      "Epoch 2/2\n",
      "27444/27444 [==============================] - 84s 3ms/step - loss: 0.8776 - acc: 0.6183 - val_loss: 0.9574 - val_acc: 0.5803\n"
     ]
    }
   ],
   "source": [
    "model2.compile(optimizer='adam',\n",
    "             loss='categorical_crossentropy',metrics=['acc'])\n",
    "history = model2.fit(x_train_seq,y_train_new.toarray(),epochs=epochs,\n",
    "                     batch_size=batch_size,\n",
    "                     validation_data=(x_valid_seq,\n",
    "                                      y_valid_new))"
   ]
  },
  {
   "cell_type": "code",
   "execution_count": 118,
   "metadata": {},
   "outputs": [
    {
     "data": {
      "text/plain": [
       "array([2, 2, 3, 2, 3])"
      ]
     },
     "execution_count": 118,
     "metadata": {},
     "output_type": "execute_result"
    }
   ],
   "source": [
    "\n",
    "model2.pred(x_valid_seq[:5])"
   ]
  },
  {
   "cell_type": "code",
   "execution_count": 138,
   "metadata": {},
   "outputs": [],
   "source": [
    "model2.save('first_model.h5')"
   ]
  },
  {
   "cell_type": "code",
   "execution_count": 131,
   "metadata": {},
   "outputs": [],
   "source": [
    "x_valid_seq[0]\n",
    "padding = x_valid_seq[0].copy()\n",
    "padding[:] = 0\n"
   ]
  },
  {
   "cell_type": "code",
   "execution_count": 137,
   "metadata": {},
   "outputs": [
    {
     "data": {
      "text/plain": [
       "array([[  89,   73,  182,    1,  116,    5,   29,    9, 1274,   32,    3,\n",
       "        1007,    2,  835,  523,   20,  768,  407,   21,  130,    6,  650,\n",
       "           1,   67,   63,   14,  224,  110,   58,    4,  225,  130,   41,\n",
       "          47,  319,    5, 1181,    6,   13,   10,    1,   90,    8,  337,\n",
       "           7,   41,   19,   23,   57,   61],\n",
       "       [   0,    0,    0,    0,    0,    0,    0,    0,    0,    0,    0,\n",
       "           0,    0,    0,    0,    0,    0,    0,    0,    0,    0,    0,\n",
       "           0,    0,    0,    0,    0,    0,    0,    0,    0,    0,    0,\n",
       "           0,    0,    0,    0,    0,    0,    0,    0,    0,    0,    0,\n",
       "           0,    0,    0,    0,    0,    0]], dtype=int32)"
      ]
     },
     "execution_count": 137,
     "metadata": {},
     "output_type": "execute_result"
    }
   ],
   "source": [
    "np.vstack([x_valid_seq[0],padding])"
   ]
  }
 ],
 "metadata": {
  "kernelspec": {
   "display_name": "Python [conda env:tensorflow_p36]",
   "language": "python",
   "name": "conda-env-tensorflow_p36-py"
  },
  "language_info": {
   "codemirror_mode": {
    "name": "ipython",
    "version": 3
   },
   "file_extension": ".py",
   "mimetype": "text/x-python",
   "name": "python",
   "nbconvert_exporter": "python",
   "pygments_lexer": "ipython3",
   "version": "3.6.5"
  }
 },
 "nbformat": 4,
 "nbformat_minor": 2
}
