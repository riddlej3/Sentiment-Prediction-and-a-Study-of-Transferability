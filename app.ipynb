{
 "cells": [
  {
   "cell_type": "markdown",
   "metadata": {},
   "source": [
    "# Ta Model"
   ]
  },
  {
   "cell_type": "code",
   "execution_count": null,
   "metadata": {},
   "outputs": [],
   "source": [
    "import pandas as pd\n",
    "import numpy as np\n",
    "from keras.models import load_model\n",
    "from keras.preprocessing.text import Tokenizer\n",
    "from keras.preprocessing.sequence import pad_sequences\n",
    "import tensorflow as tf\n",
    "from functions import sample_mean\n",
    "from lists import stop_words,noise\n",
    "from plots import model_plots\n",
    "import string\n",
    "import warnings\n",
    "import os\n",
    "import pickle\n",
    "\n",
    "punctuation = set(string.punctuation)\n",
    "# ohe = OneHotEncoder()\n",
    "\n",
    "file = 'word_dict_ta.pickle'\n",
    "os.chdir('/home/ubuntu/Notebooks/capstone/models')\n",
    "with open(file, 'rb') as f:\n",
    "    word_dict = pickle.load(f)"
   ]
  },
  {
   "cell_type": "code",
   "execution_count": null,
   "metadata": {},
   "outputs": [],
   "source": [
    "os.chdir('/home/ubuntu/Notebooks/data')\n",
    "model = load_model('first_model_ta2.h5')"
   ]
  },
  {
   "cell_type": "code",
   "execution_count": null,
   "metadata": {},
   "outputs": [],
   "source": [
    "def lower_rm_punct(review):\n",
    "    return np.asarray([wrd.lower() for wrd in ''.join([wrd for\\\n",
    "                                                       wrd in review if wrd not in punctuation]).split()])\n",
    "\n",
    "def my_padding(review,maxlen,dictionary):\n",
    "    seq = np.zeros(maxlen).astype(str)\n",
    "    if len(review) > maxlen:\n",
    "        for i in range(maxlen):\n",
    "            seq[i] = review[i]\n",
    "    else:\n",
    "        for i in range(1,len(review)+1):\n",
    "            seq[-i] = review[-i]\n",
    "    return np.asarray([str(0) if wrd not in dictionary else str(dictionary[wrd]) for wrd in seq]).astype(int)\n",
    "\n",
    "def transform(review,maxlen,dictionary):\n",
    "    clean_review = lower_rm_punct(review)\n",
    "    return my_padding(clean_review,maxlen,dictionary)\n",
    "\n",
    "def review_prep(review,maxlen,dictionary):\n",
    "    X = transform(review,maxlen,dictionary).reshape(1,maxlen)\n",
    "    filler = X.copy()\n",
    "    filler[:] = 0\n",
    "    X = np.vstack([filler,X])\n",
    "    return X\n",
    "\n",
    "def model(review,maxlen,dictionary,model,score):\n",
    "    X = review_prep(review,maxlen,dictionary)\n",
    "    y_predictions = model.predict_classes(X)[1]\n",
    "    y_probs = model.predict(X)\n",
    "    return y_predictions[1],y_probs[1]\n",
    "    "
   ]
  },
  {
   "cell_type": "code",
   "execution_count": 3,
   "metadata": {},
   "outputs": [],
   "source": [
    "# X = np.vstack([transform(doc,150,word_dict) for doc in X])"
   ]
  },
  {
   "cell_type": "code",
   "execution_count": null,
   "metadata": {},
   "outputs": [],
   "source": [
    "X = 'Well, to be honest we did not have a good\\\n",
    " experience here. The service was bad and the room was not very nice.' \n",
    "#X = review_prep(X,150,word_dict)"
   ]
  },
  {
   "cell_type": "code",
   "execution_count": 25,
   "metadata": {},
   "outputs": [
    {
     "data": {
      "text/plain": [
       "(2, array([0.365009  , 0.19390263, 0.14403115, 0.29705727], dtype=float32))"
      ]
     },
     "execution_count": 25,
     "metadata": {},
     "output_type": "execute_result"
    }
   ],
   "source": [
    "y_predictions = model.predict_classes(X)[1]\n",
    "y_probs = model.predict(X)\n",
    "y_predictions+2,y_probs[1]"
   ]
  },
  {
   "cell_type": "code",
   "execution_count": null,
   "metadata": {},
   "outputs": [],
   "source": [
    "model(X,150,word_dict,model,2)"
   ]
  }
 ],
 "metadata": {
  "kernelspec": {
   "display_name": "Python [conda env:tensorflow_p36]",
   "language": "python",
   "name": "conda-env-tensorflow_p36-py"
  },
  "language_info": {
   "codemirror_mode": {
    "name": "ipython",
    "version": 3
   },
   "file_extension": ".py",
   "mimetype": "text/x-python",
   "name": "python",
   "nbconvert_exporter": "python",
   "pygments_lexer": "ipython3",
   "version": "3.6.5"
  }
 },
 "nbformat": 4,
 "nbformat_minor": 2
}
