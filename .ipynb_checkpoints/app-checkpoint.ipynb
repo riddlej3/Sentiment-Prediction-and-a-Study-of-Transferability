{
 "cells": [
  {
   "cell_type": "markdown",
   "metadata": {},
   "source": [
    "# Ta Model"
   ]
  },
  {
   "cell_type": "code",
   "execution_count": 15,
   "metadata": {},
   "outputs": [
    {
     "name": "stdout",
     "output_type": "stream",
     "text": [
      "WARNING:tensorflow:From /home/ubuntu/anaconda3/envs/tensorflow_p36/lib/python3.6/site-packages/tensorflow/python/framework/op_def_library.py:263: colocate_with (from tensorflow.python.framework.ops) is deprecated and will be removed in a future version.\n",
      "Instructions for updating:\n",
      "Colocations handled automatically by placer.\n",
      "WARNING:tensorflow:From /home/ubuntu/anaconda3/envs/tensorflow_p36/lib/python3.6/site-packages/keras/backend/tensorflow_backend.py:3445: calling dropout (from tensorflow.python.ops.nn_ops) with keep_prob is deprecated and will be removed in a future version.\n",
      "Instructions for updating:\n",
      "Please use `rate` instead of `keep_prob`. Rate should be set to `rate = 1 - keep_prob`.\n",
      "WARNING:tensorflow:From /home/ubuntu/anaconda3/envs/tensorflow_p36/lib/python3.6/site-packages/tensorflow/python/ops/math_ops.py:3066: to_int32 (from tensorflow.python.ops.math_ops) is deprecated and will be removed in a future version.\n",
      "Instructions for updating:\n",
      "Use tf.cast instead.\n"
     ]
    }
   ],
   "source": [
    "import pandas as pd\n",
    "import numpy as np\n",
    "import tensorflow as tf\n",
    "import string\n",
    "import os\n",
    "import pickle\n",
    "from keras.models import load_model\n",
    "\n",
    "os.chdir('/home/ubuntu/Notebooks/capstone2/src')\n",
    "from lists import stop_words,noise\n",
    "from app_module import *\n",
    "from app_module import word_dict\n",
    "\n",
    "os.chdir(\"/home/ubuntu/Notebooks/data\")\n",
    "model = load_model(\"first_model_ta2.h5\")"
   ]
  },
  {
   "cell_type": "code",
   "execution_count": 19,
   "metadata": {},
   "outputs": [],
   "source": [
    "X1 = 'Best worst hotel. There you have my recommendation'\n",
    "X2 = 'It was fine. The service was good, but the building was a bit outdated'\n",
    "X3 = 'There were dirty sheets on the bed... must I say more?'\n",
    "X4 = 'I found a fly in my soup. The waiter just told me that there wasnt anything he could do about it'\n",
    "\n",
    "\n",
    "reviews = [X1,X2,X3,X4]"
   ]
  },
  {
   "cell_type": "code",
   "execution_count": 45,
   "metadata": {},
   "outputs": [
    {
     "name": "stdout",
     "output_type": "stream",
     "text": [
      "2\n",
      "[0.53520614 0.11274134 0.09220785 0.25984466]\n",
      "selection: 3\n",
      "prediction: 0\n",
      "difference:  3\n",
      "counter1: 0.535206139087677\n",
      "counter2: 0.535206139087677\n"
     ]
    },
    {
     "data": {
      "text/plain": [
       "('requires review w/ high probability: 0.65', 'score: 5', 'pred: 2')"
      ]
     },
     "execution_count": 45,
     "metadata": {},
     "output_type": "execute_result"
    }
   ],
   "source": [
    "run_model(X4,5,dictionary=word_dict,model=model)"
   ]
  },
  {
   "cell_type": "code",
   "execution_count": 43,
   "metadata": {},
   "outputs": [],
   "source": [
    "a = np.array([.25,.25,.25,.25])"
   ]
  },
  {
   "cell_type": "code",
   "execution_count": 44,
   "metadata": {},
   "outputs": [
    {
     "name": "stdout",
     "output_type": "stream",
     "text": [
      "selection: 3\n",
      "prediction: 0\n",
      "difference:  3\n",
      "counter1: 0.25\n",
      "counter2: 0.25\n"
     ]
    },
    {
     "data": {
      "text/plain": [
       "('requires review w/ high probability: 0.5', 'score: 5', 'pred: 2')"
      ]
     },
     "execution_count": 44,
     "metadata": {},
     "output_type": "execute_result"
    }
   ],
   "source": [
    "prob_func(a,5,2)"
   ]
  }
 ],
 "metadata": {
  "kernelspec": {
   "display_name": "Python [conda env:tensorflow_p36]",
   "language": "python",
   "name": "conda-env-tensorflow_p36-py"
  },
  "language_info": {
   "codemirror_mode": {
    "name": "ipython",
    "version": 3
   },
   "file_extension": ".py",
   "mimetype": "text/x-python",
   "name": "python",
   "nbconvert_exporter": "python",
   "pygments_lexer": "ipython3",
   "version": "3.6.5"
  }
 },
 "nbformat": 4,
 "nbformat_minor": 2
}
