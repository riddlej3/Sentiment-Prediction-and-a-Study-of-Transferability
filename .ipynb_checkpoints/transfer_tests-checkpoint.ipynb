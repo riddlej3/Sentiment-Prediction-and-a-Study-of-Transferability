{
 "cells": [
  {
   "cell_type": "markdown",
   "metadata": {},
   "source": [
    "\n",
    "# RUN THIS FIRST"
   ]
  },
  {
   "cell_type": "code",
   "execution_count": 2,
   "metadata": {},
   "outputs": [
    {
     "name": "stderr",
     "output_type": "stream",
     "text": [
      "Using TensorFlow backend.\n"
     ]
    },
    {
     "ename": "ModuleNotFoundError",
     "evalue": "No module named 'functions'",
     "output_type": "error",
     "traceback": [
      "\u001b[0;31m---------------------------------------------------------------------------\u001b[0m",
      "\u001b[0;31mModuleNotFoundError\u001b[0m                       Traceback (most recent call last)",
      "\u001b[0;32m<ipython-input-2-0ca2bd6172ef>\u001b[0m in \u001b[0;36m<module>\u001b[0;34m()\u001b[0m\n\u001b[1;32m      5\u001b[0m \u001b[0;32mfrom\u001b[0m \u001b[0mkeras\u001b[0m\u001b[0;34m.\u001b[0m\u001b[0mpreprocessing\u001b[0m\u001b[0;34m.\u001b[0m\u001b[0msequence\u001b[0m \u001b[0;32mimport\u001b[0m \u001b[0mpad_sequences\u001b[0m\u001b[0;34m\u001b[0m\u001b[0m\n\u001b[1;32m      6\u001b[0m \u001b[0;32mimport\u001b[0m \u001b[0mtensorflow\u001b[0m \u001b[0;32mas\u001b[0m \u001b[0mtf\u001b[0m\u001b[0;34m\u001b[0m\u001b[0m\n\u001b[0;32m----> 7\u001b[0;31m \u001b[0;32mfrom\u001b[0m \u001b[0mfunctions\u001b[0m \u001b[0;32mimport\u001b[0m \u001b[0msample_mean\u001b[0m\u001b[0;34m\u001b[0m\u001b[0m\n\u001b[0m\u001b[1;32m      8\u001b[0m \u001b[0;32mfrom\u001b[0m \u001b[0mlists\u001b[0m \u001b[0;32mimport\u001b[0m \u001b[0mstop_words\u001b[0m\u001b[0;34m,\u001b[0m\u001b[0mnoise\u001b[0m\u001b[0;34m\u001b[0m\u001b[0m\n\u001b[1;32m      9\u001b[0m \u001b[0;32mfrom\u001b[0m \u001b[0mplots\u001b[0m \u001b[0;32mimport\u001b[0m \u001b[0mmodel_plots\u001b[0m\u001b[0;34m\u001b[0m\u001b[0m\n",
      "\u001b[0;31mModuleNotFoundError\u001b[0m: No module named 'functions'"
     ]
    }
   ],
   "source": [
    "import pandas as pd\n",
    "import numpy as np\n",
    "from keras.models import load_model\n",
    "from keras.preprocessing.text import Tokenizer\n",
    "from keras.preprocessing.sequence import pad_sequences\n",
    "import tensorflow as tf\n",
    "from functions import sample_mean\n",
    "from lists import stop_words,noise\n",
    "from plots import model_plots\n",
    "import string\n",
    "import warnings\n",
    "import os\n",
    "import pickle\n",
    "import matplotlib.pyplot as plt\n",
    "\n",
    "%matplotlib inline\n",
    "\n",
    "\n",
    "def lower_rm_punct(review):\n",
    "    return np.asarray([wrd.lower() for wrd in ''.join([wrd for\\\n",
    "                                                       wrd in review if wrd not in punctuation]).split()])\n",
    "\n",
    "def my_padding(review,maxlen,dictionary):\n",
    "    seq = np.zeros(maxlen).astype(str)\n",
    "    if len(review) > maxlen:\n",
    "        for i in range(maxlen):\n",
    "            seq[i] = review[i]\n",
    "    else:\n",
    "        for i in range(1,len(review)+1):\n",
    "            seq[-i] = review[-i]\n",
    "    return np.asarray([str(0) if wrd not in dictionary else str(dictionary[wrd]) for wrd in seq]).astype(int)\n",
    "\n",
    "def transform(review,maxlen,dictionary):\n",
    "    clean_review = lower_rm_punct(review)\n",
    "    return my_padding(clean_review,maxlen,dictionary)\n",
    "\n",
    "punctuation = set(string.punctuation)\n",
    "file = 'word_dict_ta.pickle'\n",
    "os.chdir('/home/ubuntu/Notebooks/capstone/models')\n",
    "with open(file, 'rb') as f:\n",
    "    word_dict = pickle.load(f)\n",
    "os.chdir('/home/ubuntu/Notebooks/data')\n",
    "model = load_model('first_model_ta2.h5')"
   ]
  },
  {
   "cell_type": "markdown",
   "metadata": {},
   "source": [
    "# Ta Test"
   ]
  },
  {
   "cell_type": "markdown",
   "metadata": {},
   "source": [
    "### Train DATA"
   ]
  },
  {
   "cell_type": "code",
   "execution_count": 2,
   "metadata": {},
   "outputs": [],
   "source": [
    "ta_data = pd.read_pickle('ta/ta_data2.pickle').replace(1.0,2.0).replace(0.0,2.0).\\\n",
    "                                                    sample(frac=.5,random_state=3)\n",
    "ta_data.columns = ['index', 'id', 'offering_id', 'text', 'ratings_overall', 'language']\n",
    "ta_data = ta_data[ta_data['language'] == 'en']\n",
    "ta_data['ratings_overall'].value_counts()\n",
    "\n",
    "idx_2 = ta_data[ta_data['ratings_overall'] == 2].index\n",
    "idx_3 = ta_data[ta_data['ratings_overall'] == 3].index\n",
    "idx_4 = ta_data[ta_data['ratings_overall'] == 4].index\n",
    "idx_5 = ta_data[ta_data['ratings_overall'] == 5].index\n",
    "\n",
    "np.random.seed(10)\n",
    "sample_idx_2 = np.random.choice(idx_2,replace=False,size=12937)\n",
    "sample_idx_3 = np.random.choice(idx_3,replace=False,size=12937)\n",
    "sample_idx_4 = np.random.choice(idx_4,replace=False,size=12937)\n",
    "sample_idx_5 = np.random.choice(idx_5,replace=False,size=12937)\n",
    "ta_data = pd.concat([ta_data.loc[sample_idx_2],\n",
    "           ta_data.loc[sample_idx_3],\n",
    "           ta_data.loc[sample_idx_4],\n",
    "           ta_data.loc[sample_idx_5]],axis=0)"
   ]
  },
  {
   "cell_type": "code",
   "execution_count": 14,
   "metadata": {},
   "outputs": [
    {
     "name": "stdout",
     "output_type": "stream",
     "text": [
      "avg: review length:  166.914275\n"
     ]
    }
   ],
   "source": [
    "df = pd.read_pickle('/home/ubuntu/Notebooks/data/ta/ta_data2.pickle')\n",
    "train_idx = ta_data.index.values\n",
    "test_idx = [i for i in df.index if i not in train_idx]\n",
    "df = df.loc[test_idx].replace(1.0,2.0).replace(0.0,2.0)\n",
    "df.columns = ['index', 'id', 'offering_id', 'text', 'stars', 'language']\n",
    "df = df[df['language'] == 'en']\n",
    "df = df[['text','stars']].drop_duplicates()\n",
    "\n",
    "\n",
    "idx_2 = df[df['stars'] == 2].index\n",
    "idx_3 = df[df['stars'] == 3].index\n",
    "idx_4 = df[df['stars'] == 4].index\n",
    "idx_5 = df[df['stars'] == 5].index\n",
    "\n",
    "np.random.seed(10)\n",
    "sample_idx_2 = np.random.choice(idx_2,replace=False,size=10000)\n",
    "sample_idx_3 = np.random.choice(idx_3,replace=False,size=10000)\n",
    "sample_idx_4 = np.random.choice(idx_4,replace=False,size=10000)\n",
    "sample_idx_5 = np.random.choice(idx_5,replace=False,size=10000)\n",
    "\n",
    "df = pd.concat([df.loc[sample_idx_2],\n",
    "           df.loc[sample_idx_3],\n",
    "           df.loc[sample_idx_4],\n",
    "           df.loc[sample_idx_5]],axis=0)\n",
    "\n",
    "\n",
    "X = df['text']\n",
    "y = df['stars']\n",
    "del df\n",
    "print('avg: review length: ',X.apply(lambda x: len(x.split())).mean())\n",
    "X = np.vstack([transform(doc,150,word_dict) for doc in X])"
   ]
  },
  {
   "cell_type": "code",
   "execution_count": 17,
   "metadata": {},
   "outputs": [
    {
     "name": "stdout",
     "output_type": "stream",
     "text": [
      "% breakdown accuracy incl. 1 error:  [0.1713   0.615175 0.170575]\n",
      "% total accuracy incl. 1 error:  0.9570500000000001\n"
     ]
    }
   ],
   "source": [
    "y_predictions = model.predict_classes(X)\n",
    "y_diff = (y_predictions+2) - y.values\n",
    "print('% breakdown accuracy incl. 1 error: ',np.unique(y_diff,return_counts=True)[1][2:5]/y_diff.shape[0])\n",
    "print('% total accuracy incl. 1 error: ',np.sum(np.unique(y_diff,return_counts=True)[1][2:5]/y_diff.shape[0]))"
   ]
  },
  {
   "cell_type": "markdown",
   "metadata": {},
   "source": [
    "# Hotel Test"
   ]
  },
  {
   "cell_type": "code",
   "execution_count": 25,
   "metadata": {},
   "outputs": [
    {
     "data": {
      "text/html": [
       "<div>\n",
       "<style scoped>\n",
       "    .dataframe tbody tr th:only-of-type {\n",
       "        vertical-align: middle;\n",
       "    }\n",
       "\n",
       "    .dataframe tbody tr th {\n",
       "        vertical-align: top;\n",
       "    }\n",
       "\n",
       "    .dataframe thead th {\n",
       "        text-align: right;\n",
       "    }\n",
       "</style>\n",
       "<table border=\"1\" class=\"dataframe\">\n",
       "  <thead>\n",
       "    <tr style=\"text-align: right;\">\n",
       "      <th></th>\n",
       "      <th>city</th>\n",
       "      <th>name</th>\n",
       "      <th>reviews.date</th>\n",
       "      <th>reviews.dateAdded</th>\n",
       "      <th>reviews.id</th>\n",
       "      <th>reviews.rating</th>\n",
       "      <th>reviews.text</th>\n",
       "      <th>reviews.title</th>\n",
       "      <th>reviews.userCity</th>\n",
       "      <th>reviews.username</th>\n",
       "      <th>reviews.userProvince</th>\n",
       "      <th>language</th>\n",
       "      <th>word_count</th>\n",
       "      <th>sentence_count</th>\n",
       "      <th>clean_text</th>\n",
       "    </tr>\n",
       "  </thead>\n",
       "  <tbody>\n",
       "    <tr>\n",
       "      <th>0</th>\n",
       "      <td>Mableton</td>\n",
       "      <td>Hotel Russo Palace</td>\n",
       "      <td>2013-09-22T00:00:00Z</td>\n",
       "      <td>2016-10-24T00:00:25Z</td>\n",
       "      <td>NaN</td>\n",
       "      <td>4.0</td>\n",
       "      <td>Pleasant 10 min walk along the sea front to th...</td>\n",
       "      <td>Good location away from the crouds</td>\n",
       "      <td>NaN</td>\n",
       "      <td>Russ (kent)</td>\n",
       "      <td>NaN</td>\n",
       "      <td>en</td>\n",
       "      <td>33</td>\n",
       "      <td>5</td>\n",
       "      <td>Pleasant 10 min walk along sea front Water Bus...</td>\n",
       "    </tr>\n",
       "  </tbody>\n",
       "</table>\n",
       "</div>"
      ],
      "text/plain": [
       "       city                name          reviews.date     reviews.dateAdded  \\\n",
       "0  Mableton  Hotel Russo Palace  2013-09-22T00:00:00Z  2016-10-24T00:00:25Z   \n",
       "\n",
       "   reviews.id  reviews.rating  \\\n",
       "0         NaN             4.0   \n",
       "\n",
       "                                        reviews.text  \\\n",
       "0  Pleasant 10 min walk along the sea front to th...   \n",
       "\n",
       "                        reviews.title reviews.userCity reviews.username  \\\n",
       "0  Good location away from the crouds              NaN      Russ (kent)   \n",
       "\n",
       "  reviews.userProvince language  word_count  sentence_count  \\\n",
       "0                  NaN       en          33               5   \n",
       "\n",
       "                                          clean_text  \n",
       "0  Pleasant 10 min walk along sea front Water Bus...  "
      ]
     },
     "execution_count": 25,
     "metadata": {},
     "output_type": "execute_result"
    }
   ],
   "source": [
    "df.head(1)"
   ]
  },
  {
   "cell_type": "code",
   "execution_count": 27,
   "metadata": {},
   "outputs": [
    {
     "name": "stdout",
     "output_type": "stream",
     "text": [
      "avg: review length:  50.196993318485525\n"
     ]
    }
   ],
   "source": [
    "df = pd.read_pickle('/home/ubuntu/Notebooks/capstone/data/hotels.pickle')\n",
    "df = df[df['language'] == 'en']\n",
    "df = df[['reviews.text','reviews.rating']].drop_duplicates().replace(1.0,2.0).replace(0.0,2.0)\n",
    "df.columns = ['text','stars']\n",
    "\n",
    "idx_2 = df[df['stars'] == 2].index\n",
    "idx_3 = df[df['stars'] == 3].index\n",
    "idx_4 = df[df['stars'] == 4].index\n",
    "idx_5 = df[df['stars'] == 5].index\n",
    "\n",
    "np.random.seed(10)\n",
    "sample_idx_2 = np.random.choice(idx_2,replace=False,size=2245)\n",
    "sample_idx_3 = np.random.choice(idx_3,replace=False,size=2245)\n",
    "sample_idx_4 = np.random.choice(idx_4,replace=False,size=2245)\n",
    "sample_idx_5 = np.random.choice(idx_5,replace=False,size=2245)\n",
    "\n",
    "df = pd.concat([df.loc[sample_idx_2],\n",
    "           df.loc[sample_idx_3],\n",
    "           df.loc[sample_idx_4],\n",
    "           df.loc[sample_idx_5]],axis=0)\n",
    "\n",
    "\n",
    "X = df['text']\n",
    "y = df['stars']\n",
    "del df\n",
    "print('avg: review length: ',X.apply(lambda x: len(x.split())).mean())\n",
    "X = np.vstack([transform(doc,150,word_dict) for doc in X])"
   ]
  },
  {
   "cell_type": "code",
   "execution_count": 28,
   "metadata": {},
   "outputs": [
    {
     "name": "stdout",
     "output_type": "stream",
     "text": [
      "% breakdown accuracy incl. 1 error:  [0.1747216  0.55478842 0.17060134]\n",
      "% total accuracy incl. 1 error:  0.9001113585746103\n"
     ]
    }
   ],
   "source": [
    "y_predictions = model.predict_classes(X)\n",
    "y_diff = (y_predictions+2) - y.values\n",
    "print('% breakdown accuracy incl. 1 error: ',np.unique(y_diff,return_counts=True)[1][2:5]/y_diff.shape[0])\n",
    "print('% total accuracy incl. 1 error: ',np.sum(np.unique(y_diff,return_counts=True)[1][2:5]/y_diff.shape[0]))"
   ]
  },
  {
   "cell_type": "markdown",
   "metadata": {},
   "source": [
    "# Yelp Test"
   ]
  },
  {
   "cell_type": "code",
   "execution_count": 68,
   "metadata": {},
   "outputs": [],
   "source": [
    "df = pd.read_pickle('/home/ubuntu/Notebooks/data/yelp_reviews.p')\n",
    "df = df[['text','stars']].drop_duplicates().replace(1.0,2.0)\n",
    "\n",
    "\n",
    "idx_2 = df[df['stars'] == 2].index\n",
    "idx_3 = df[df['stars'] == 3].index\n",
    "idx_4 = df[df['stars'] == 4].index\n",
    "idx_5 = df[df['stars'] == 5].index\n",
    "\n",
    "np.random.seed(10)\n",
    "sample_idx_2 = np.random.choice(idx_2,replace=False,size=2245)\n",
    "sample_idx_3 = np.random.choice(idx_3,replace=False,size=2245)\n",
    "sample_idx_4 = np.random.choice(idx_4,replace=False,size=2245)\n",
    "sample_idx_5 = np.random.choice(idx_5,replace=False,size=2245)\n",
    "\n",
    "df = pd.concat([df.loc[sample_idx_2],\n",
    "           df.loc[sample_idx_3],\n",
    "           df.loc[sample_idx_4],\n",
    "           df.loc[sample_idx_5]],axis=0)\n",
    "\n",
    "\n",
    "X = df['text']\n",
    "y = df['stars']\n",
    "del df\n",
    "print('avg: review length: ',X.apply(lambda x: len(x.split())).mean())\n",
    "X = np.vstack([transform(doc,150,word_dict) for doc in X])"
   ]
  },
  {
   "cell_type": "code",
   "execution_count": 69,
   "metadata": {},
   "outputs": [],
   "source": [
    "y_predictions = model.predict_classes(X)\n",
    "y_diff = (y_predictions+2) - y.values"
   ]
  },
  {
   "cell_type": "code",
   "execution_count": 70,
   "metadata": {},
   "outputs": [
    {
     "name": "stdout",
     "output_type": "stream",
     "text": [
      "% breakdown accuracy incl. 1 error:  [0.13095768 0.55902004 0.21614699]\n",
      "% total accuracy incl. 1 error:  0.9061247216035634\n"
     ]
    }
   ],
   "source": [
    "print('% breakdown accuracy incl. 1 error: ',np.unique(y_diff,return_counts=True)[1][2:5]/y_diff.shape[0])\n",
    "print('% total accuracy incl. 1 error: ',np.sum(np.unique(y_diff,return_counts=True)[1][2:5]/y_diff.shape[0]))"
   ]
  },
  {
   "cell_type": "markdown",
   "metadata": {},
   "source": [
    "# Movie Test"
   ]
  },
  {
   "cell_type": "code",
   "execution_count": 74,
   "metadata": {},
   "outputs": [
    {
     "name": "stdout",
     "output_type": "stream",
     "text": [
      "avg: review length:  132.5476614699332\n"
     ]
    }
   ],
   "source": [
    "df = pd.read_pickle('/home/ubuntu/Notebooks/data/amzn_reviews.pickle')\n",
    "df = df[['reviewText','overall']].drop_duplicates().replace(1.0,2.0)\n",
    "df.columns = ['text','stars']\n",
    "\n",
    "idx_2 = df[df['stars'] == 2].index\n",
    "idx_3 = df[df['stars'] == 3].index\n",
    "idx_4 = df[df['stars'] == 4].index\n",
    "idx_5 = df[df['stars'] == 5].index\n",
    "\n",
    "np.random.seed(10)\n",
    "sample_idx_2 = np.random.choice(idx_2,replace=False,size=2245)\n",
    "sample_idx_3 = np.random.choice(idx_3,replace=False,size=2245)\n",
    "sample_idx_4 = np.random.choice(idx_4,replace=False,size=2245)\n",
    "sample_idx_5 = np.random.choice(idx_5,replace=False,size=2245)\n",
    "\n",
    "df = pd.concat([df.loc[sample_idx_2],\n",
    "           df.loc[sample_idx_3],\n",
    "           df.loc[sample_idx_4],\n",
    "           df.loc[sample_idx_5]],axis=0)\n",
    "\n",
    "X = df['text']\n",
    "y = df['stars']\n",
    "\n",
    "del df\n",
    "print('avg: review length: ',X.apply(lambda x: len(x.split())).mean())\n",
    "X = np.vstack([transform(doc,150,word_dict) for doc in X])"
   ]
  },
  {
   "cell_type": "code",
   "execution_count": 75,
   "metadata": {},
   "outputs": [
    {
     "name": "stdout",
     "output_type": "stream",
     "text": [
      "% breakdown accuracy incl. 1 error:  [0.17305122 0.43652561 0.15623608]\n",
      "% total accuracy incl. 1 error:  0.7658129175946548\n"
     ]
    }
   ],
   "source": [
    "y_predictions = model.predict_classes(X)\n",
    "y_diff = (y_predictions+2) - y.values\n",
    "((y_predictions+2) == y.values).mean()\n",
    "\n",
    "print('% breakdown accuracy incl. 1 error: ',np.unique(y_diff,return_counts=True)[1][2:5]/y_diff.shape[0])\n",
    "print('% total accuracy incl. 1 error: ',np.sum(np.unique(y_diff,return_counts=True)[1][2:5]/y_diff.shape[0]))"
   ]
  },
  {
   "cell_type": "markdown",
   "metadata": {},
   "source": [
    "# Amzn Electronic Products"
   ]
  },
  {
   "cell_type": "code",
   "execution_count": 78,
   "metadata": {},
   "outputs": [],
   "source": [
    "df = pd.read_csv('1429_1.csv')\n",
    "os.chdir('/home/ubuntu/Notebooks/data')"
   ]
  },
  {
   "cell_type": "code",
   "execution_count": 100,
   "metadata": {},
   "outputs": [
    {
     "name": "stderr",
     "output_type": "stream",
     "text": [
      "/home/ubuntu/anaconda3/envs/tensorflow_p36/lib/python3.6/site-packages/IPython/core/interactiveshell.py:2785: DtypeWarning: Columns (1,10) have mixed types. Specify dtype option on import or set low_memory=False.\n",
      "  interactivity=interactivity, compiler=compiler, result=result)\n"
     ]
    },
    {
     "name": "stdout",
     "output_type": "stream",
     "text": [
      "avg: review length:  35.55999246562441\n"
     ]
    }
   ],
   "source": [
    "os.chdir('/home/ubuntu/Notebooks/data')\n",
    "df = pd.read_csv('1429_1.csv')\n",
    "df = df[['reviews.text','reviews.rating']].replace(1.0,2.0)\n",
    "df.columns = ['text','stars']\n",
    "\n",
    "\n",
    "idx_2 = df[df['stars'] == 2].index\n",
    "idx_3 = df[df['stars'] == 3].index\n",
    "idx_4 = df[df['stars'] == 4].index\n",
    "idx_5 = df[df['stars'] == 5].index\n",
    "\n",
    "np.random.seed(10)\n",
    "sample_idx_2 = np.random.choice(idx_2,replace=False,size=812)\n",
    "sample_idx_3 = np.random.choice(idx_3,replace=False,size=1499)\n",
    "sample_idx_4 = np.random.choice(idx_4,replace=False,size=1499)\n",
    "sample_idx_5 = np.random.choice(idx_5,replace=False,size=1499)\n",
    "\n",
    "df = pd.concat([df.loc[sample_idx_2],\n",
    "           df.loc[sample_idx_3],\n",
    "           df.loc[sample_idx_4],\n",
    "           df.loc[sample_idx_5]],axis=0)\n",
    "\n",
    "X = df['text']\n",
    "y = df['stars']\n",
    "\n",
    "del df\n",
    "print('avg: review length: ',X.apply(lambda x: len(x.split())).mean())\n",
    "X = np.vstack([transform(doc,150,word_dict) for doc in X])"
   ]
  },
  {
   "cell_type": "code",
   "execution_count": 102,
   "metadata": {},
   "outputs": [
    {
     "name": "stdout",
     "output_type": "stream",
     "text": [
      "% breakdown accuracy incl. 1 error:  [0.16198908 0.45526464 0.21774345]\n",
      "% total accuracy incl. 1 error:  0.8349971746091542\n"
     ]
    }
   ],
   "source": [
    "y_predictions = model.predict_classes(X)\n",
    "y_diff = (y_predictions+2) - y.values\n",
    "((y_predictions+2) == y.values).mean()\n",
    "\n",
    "print('% breakdown accuracy incl. 1 error: ',np.unique(y_diff,return_counts=True)[1][2:5]/y_diff.shape[0])\n",
    "print('% total accuracy incl. 1 error: ',np.sum(np.unique(y_diff,return_counts=True)[1][2:5]/y_diff.shape[0]))"
   ]
  },
  {
   "cell_type": "markdown",
   "metadata": {},
   "source": [
    "# Amzn Automotive Products"
   ]
  },
  {
   "cell_type": "code",
   "execution_count": 115,
   "metadata": {},
   "outputs": [
    {
     "name": "stdout",
     "output_type": "stream",
     "text": [
      "avg: review length:  95.64490621552041\n"
     ]
    }
   ],
   "source": [
    "os.chdir('/home/ubuntu/Notebooks/data')\n",
    "df = pd.read_json('reviews_Automotive_5.json.gz',compression='gzip', lines=True).replace(1.0,2.0)\n",
    "df = df[['reviewText','overall']]\n",
    "df.columns = ['text','stars']\n",
    "\n",
    "\n",
    "idx_2 = df[df['stars'] == 2].index\n",
    "idx_3 = df[df['stars'] == 3].index\n",
    "idx_4 = df[df['stars'] == 4].index\n",
    "idx_5 = df[df['stars'] == 5].index\n",
    "\n",
    "np.random.seed(10)\n",
    "sample_idx_2 = np.random.choice(idx_2,replace=False,size=1148)\n",
    "sample_idx_3 = np.random.choice(idx_3,replace=False,size=1430)\n",
    "sample_idx_4 = np.random.choice(idx_4,replace=False,size=1430)\n",
    "sample_idx_5 = np.random.choice(idx_5,replace=False,size=1430)\n",
    "\n",
    "df = pd.concat([df.loc[sample_idx_2],\n",
    "           df.loc[sample_idx_3],\n",
    "           df.loc[sample_idx_4],\n",
    "           df.loc[sample_idx_5]],axis=0)\n",
    "\n",
    "X = df['text']\n",
    "y = df['stars']\n",
    "\n",
    "del df\n",
    "print('avg: review length: ',X.apply(lambda x: len(x.split())).mean())\n",
    "X = np.vstack([transform(doc,150,word_dict) for doc in X])"
   ]
  },
  {
   "cell_type": "code",
   "execution_count": 116,
   "metadata": {},
   "outputs": [
    {
     "name": "stdout",
     "output_type": "stream",
     "text": [
      "% breakdown accuracy incl. 1 error:  [0.27546892 0.36208165 0.11566752]\n",
      "% total accuracy incl. 1 error:  0.7532180948878264\n"
     ]
    }
   ],
   "source": [
    "y_predictions = model.predict_classes(X)\n",
    "y_diff = (y_predictions+2) - y.values\n",
    "((y_predictions+2) == y.values).mean()\n",
    "\n",
    "print('% breakdown accuracy incl. 1 error: ',np.unique(y_diff,return_counts=True)[1][2:5]/y_diff.shape[0])\n",
    "print('% total accuracy incl. 1 error: ',np.sum(np.unique(y_diff,return_counts=True)[1][2:5]/y_diff.shape[0]))"
   ]
  },
  {
   "cell_type": "markdown",
   "metadata": {},
   "source": [
    "# Amzn Pet Supplies"
   ]
  },
  {
   "cell_type": "code",
   "execution_count": 36,
   "metadata": {},
   "outputs": [],
   "source": [
    "os.chdir('/home/ubuntu/Notebooks/data')\n",
    "df = pd.read_json('reviews_Pet_Supplies_5.json.gz',compression='gzip', lines=True).replace(1.0,2.0)\n",
    "df = df[['reviewText','overall']]\n",
    "df.columns = ['text','stars']\n",
    "\n",
    "\n",
    "idx_2 = df[df['stars'] == 2].index\n",
    "idx_3 = df[df['stars'] == 3].index\n",
    "idx_4 = df[df['stars'] == 4].index\n",
    "idx_5 = df[df['stars'] == 5].index\n",
    "\n",
    "np.random.seed(10)\n",
    "sample_idx_2 = np.random.choice(idx_2,replace=False,size=10000)\n",
    "sample_idx_3 = np.random.choice(idx_3,replace=False,size=10000)\n",
    "sample_idx_4 = np.random.choice(idx_4,replace=False,size=10000)\n",
    "sample_idx_5 = np.random.choice(idx_5,replace=False,size=10000)\n",
    "\n",
    "df = pd.concat([df.loc[sample_idx_2],\n",
    "           df.loc[sample_idx_3],\n",
    "           df.loc[sample_idx_4],\n",
    "           df.loc[sample_idx_5]],axis=0)\n",
    "\n",
    "X = df['text']\n",
    "y = df['stars']\n",
    "\n",
    "del df\n",
    "print('avg: review length: ',X.apply(lambda x: len(x.split())).mean())\n",
    "X = np.vstack([transform(doc,150,word_dict) for doc in X])"
   ]
  },
  {
   "cell_type": "code",
   "execution_count": 125,
   "metadata": {},
   "outputs": [
    {
     "name": "stdout",
     "output_type": "stream",
     "text": [
      "% breakdown accuracy incl. 1 error:  [0.246575 0.397075 0.134725]\n",
      "% total accuracy incl. 1 error:  0.778375\n"
     ]
    }
   ],
   "source": [
    "y_predictions = model.predict_classes(X)\n",
    "y_diff = (y_predictions+2) - y.values\n",
    "((y_predictions+2) == y.values).mean()\n",
    "\n",
    "print('% breakdown accuracy incl. 1 error: ',np.unique(y_diff,return_counts=True)[1][2:5]/y_diff.shape[0])\n",
    "print('% total accuracy incl. 1 error: ',np.sum(np.unique(y_diff,return_counts=True)[1][2:5]/y_diff.shape[0]))"
   ]
  },
  {
   "cell_type": "markdown",
   "metadata": {},
   "source": [
    "# Amzn Digital Music"
   ]
  },
  {
   "cell_type": "code",
   "execution_count": 32,
   "metadata": {},
   "outputs": [],
   "source": [
    "os.chdir('/home/ubuntu/Notebooks/data')\n",
    "df = pd.read_json('reviews_Digital_Music_5.json.gz',compression='gzip', lines=True).replace(1.0,2.0)\n",
    "df = df[['reviewText','overall']]\n",
    "df.columns = ['text','stars']\n",
    "\n",
    "\n",
    "idx_2 = df[df['stars'] == 2].index\n",
    "idx_3 = df[df['stars'] == 3].index\n",
    "idx_4 = df[df['stars'] == 4].index\n",
    "idx_5 = df[df['stars'] == 5].index\n",
    "\n",
    "np.random.seed(10)\n",
    "sample_idx_2 = np.random.choice(idx_2,replace=False,size=5801)\n",
    "sample_idx_3 = np.random.choice(idx_3,replace=False,size=5801)\n",
    "sample_idx_4 = np.random.choice(idx_4,replace=False,size=5801)\n",
    "sample_idx_5 = np.random.choice(idx_5,replace=False,size=5801)\n",
    "\n",
    "df = pd.concat([df.loc[sample_idx_2],\n",
    "           df.loc[sample_idx_3],\n",
    "           df.loc[sample_idx_4],\n",
    "           df.loc[sample_idx_5]],axis=0)\n",
    "\n",
    "X = df['text']\n",
    "y = df['stars']\n",
    "\n",
    "del df\n",
    "print('avg: review length: ',X.apply(lambda x: len(x.split())).mean())\n",
    "X = np.vstack([transform(doc,150,word_dict) for doc in X])"
   ]
  },
  {
   "cell_type": "code",
   "execution_count": 130,
   "metadata": {},
   "outputs": [
    {
     "name": "stdout",
     "output_type": "stream",
     "text": [
      "% breakdown accuracy incl. 1 error:  [0.16712636 0.40721427 0.17496983]\n",
      "% total accuracy incl. 1 error:  0.7493104637131529\n"
     ]
    }
   ],
   "source": [
    "y_predictions = model.predict_classes(X)\n",
    "y_diff = (y_predictions+2) - y.values\n",
    "((y_predictions+2) == y.values).mean()\n",
    "\n",
    "print('% breakdown accuracy incl. 1 error: ',np.unique(y_diff,return_counts=True)[1][2:5]/y_diff.shape[0])\n",
    "print('% total accuracy incl. 1 error: ',np.sum(np.unique(y_diff,return_counts=True)[1][2:5]/y_diff.shape[0]))"
   ]
  },
  {
   "cell_type": "markdown",
   "metadata": {},
   "source": [
    "# Restaurant Dataset"
   ]
  },
  {
   "cell_type": "code",
   "execution_count": 29,
   "metadata": {},
   "outputs": [],
   "source": [
    "os.chdir('/home/ubuntu/Notebooks/data')\n",
    "df = pd.read_csv('1-restaurant-train.csv',sep='\\t',header=None).drop_duplicates().dropna()\n",
    "# df = df[['reviews.text','reviews.rating']].replace(1.0,2.0)\n",
    "df.columns = ['stars','text']\n",
    "df = df[['text','stars']].replace(1.0,2.0)\n",
    "\n",
    "\n",
    "idx_2 = df[df['stars'] == 2].index\n",
    "idx_3 = df[df['stars'] == 3].index\n",
    "idx_4 = df[df['stars'] == 4].index\n",
    "idx_5 = df[df['stars'] == 5].index\n",
    "\n",
    "np.random.seed(10)\n",
    "sample_idx_2 = np.random.choice(idx_2,replace=False,size=5000)\n",
    "sample_idx_3 = np.random.choice(idx_3,replace=False,size=5000)\n",
    "sample_idx_4 = np.random.choice(idx_4,replace=False,size=5000)\n",
    "sample_idx_5 = np.random.choice(idx_5,replace=False,size=5000)\n",
    "\n",
    "df = pd.concat([df.loc[sample_idx_2],\n",
    "           df.loc[sample_idx_3],\n",
    "           df.loc[sample_idx_4],\n",
    "           df.loc[sample_idx_5]],axis=0)\n",
    "\n",
    "X = df['text']\n",
    "y = df['stars']\n",
    "\n",
    "del df\n",
    "print('avg: review length: ',X.apply(lambda x: len(x.split())).mean())\n",
    "X = np.vstack([transform(doc,150,word_dict) for doc in X])"
   ]
  },
  {
   "cell_type": "code",
   "execution_count": 181,
   "metadata": {},
   "outputs": [
    {
     "name": "stdout",
     "output_type": "stream",
     "text": [
      "% breakdown accuracy incl. 1 error:  [0.17005 0.48225 0.22525]\n",
      "% total accuracy incl. 1 error:  0.87755\n"
     ]
    }
   ],
   "source": [
    "y_predictions = model.predict_classes(X)\n",
    "y_diff = (y_predictions+2) - y.values\n",
    "((y_predictions+2) == y.values).mean()\n",
    "\n",
    "print('% breakdown accuracy incl. 1 error: ',np.unique(y_diff,return_counts=True)[1][2:5]/y_diff.shape[0])\n",
    "print('% total accuracy incl. 1 error: ',np.sum(np.unique(y_diff,return_counts=True)[1][2:5]/y_diff.shape[0]))"
   ]
  },
  {
   "cell_type": "code",
   "execution_count": 5,
   "metadata": {},
   "outputs": [],
   "source": [
    "datasets = np.asarray(['trip advisor reviews','hotels','yelp restaurants','movies',\n",
    "            'kindles/tablets','automotive','pet supplies'])#,'music'])\n",
    "dataset_counts = np.asarray([set for set in range(len(datasets))])\n",
    "accuracy = np.asarray([0.615,.555,0.559,.437,.456,.362,.397])#,.407])\n",
    "error_accuracy = np.asarray([.957,.900,0.906,.766,.835,.753,.778])#,.749])"
   ]
  },
  {
   "cell_type": "code",
   "execution_count": 3,
   "metadata": {},
   "outputs": [
    {
     "data": {
      "text/plain": [
       "array([0, 1, 2, 3, 4, 5, 6])"
      ]
     },
     "execution_count": 3,
     "metadata": {},
     "output_type": "execute_result"
    }
   ],
   "source": [
    "dataset_counts"
   ]
  },
  {
   "cell_type": "code",
   "execution_count": 10,
   "metadata": {},
   "outputs": [
    {
     "data": {
      "image/png": "[encoded data removed]",
      "text/plain": [
       "<Figure size 1152x288 with 1 Axes>"
      ]
     },
     "metadata": {},
     "output_type": "display_data"
    }
   ],
   "source": [
    "import matplotlib.pyplot as plt\n",
    "%matplotlib inline\n",
    "fig,ax = plt.subplots(1,figsize=(16,4))\n",
    "ax.bar(dataset_counts[3:],error_accuracy[3:],label=\"products score +/- 1 star accuracy\",color=[(0.1, 0.2, 0.5, 0.3),\n",
    "                                                       (0.1, 0.2, 0.5, 0.3),\n",
    "                                                       (0.1, 0.2, 0.5, 0.3),\n",
    "                                                       (0.1, 0.2, 0.5, 0.3)])\n",
    "\n",
    "ax.bar(dataset_counts[:3],error_accuracy[:3],label=\"services score +/- 1 star accuracy\",color=[(0.1, 0.2, 0.5),\n",
    "                                                       (0.1, 0.2, 0.5),\n",
    "                                                       (0.1, 0.2, 0.5)],alpha=.8)\n",
    "\n",
    "ax.set_ylim(.35,1.1)\n",
    "ax.axhline(.65,linestyle='--',linewidth=1,color='blue',label='random selection line')\n",
    "ax.set_xticks(dataset_counts)\n",
    "ax.set_xticklabels(datasets,rotation=20,fontsize=12)\n",
    "ax.text(6.02,.27,'random_acc_line',color='white',horizontalalignment='center',fontsize=10)\n",
    "# ax.text(7.04,.67,'random_err_acc_line',color='red',horizontalalignment='center',fontsize=12)\n",
    "ax.set_ylabel('percent %',fontsize=13)\n",
    "ax.bar(dataset_counts,accuracy,label='perfect accuracy',color='red',linestyle='--',alpha=.2)\n",
    "# ax.axhline(.65,linestyle='--',color='red',linewidth=1)\n",
    "ax.set_title('Trip Advisor Sentiment Model Performance Chart')\n",
    "# ax.set_yticks([])\n",
    "for i in dataset_counts:\n",
    "    ax.text(i,error_accuracy[i]+error_accuracy[i]*.02,'{}'.format(error_accuracy[i]),horizontalalignment='center')\n",
    "ax.legend(loc='upper right')\n",
    "plt.show()"
   ]
  },
  {
   "cell_type": "code",
   "execution_count": 263,
   "metadata": {},
   "outputs": [],
   "source": [
    "service_accuracies = accuracy[:3]\n",
    "product_accuracies = accuracy[3:]"
   ]
  },
  {
   "cell_type": "code",
   "execution_count": 267,
   "metadata": {},
   "outputs": [],
   "source": [
    "import scipy.stats as stats\n",
    "t_score = stats.t.ppf(1-0.05, 4)\n",
    "\n",
    "pa_mean = product_accuracies.mean()\n",
    "sa_mean = service_accuracies.mean()\n",
    "pa_var = product_accuracies.var()\n",
    "sa_var = service_accuracies.var()\n",
    "pa_sample_size = len(product_accuracies)\n",
    "sa_sample_size = len(service_accuracies)\n",
    "df = pa_sample_size + sa_sample_size -2\n",
    "\n",
    "CI = stats.t.ppf(.95,5) * ((pa_var/(pa_sample_size-1))+(sa_var/(sa_sample_size-1)))**.5"
   ]
  },
  {
   "cell_type": "code",
   "execution_count": 268,
   "metadata": {},
   "outputs": [
    {
     "data": {
      "text/plain": [
       "0.05100306411214209"
      ]
     },
     "execution_count": 268,
     "metadata": {},
     "output_type": "execute_result"
    }
   ],
   "source": [
    "CI"
   ]
  },
  {
   "cell_type": "code",
   "execution_count": null,
   "metadata": {},
   "outputs": [],
   "source": [
    "#       (Xhat1 - Xhat2) - (u1 - u2)\n",
    "# t =  -----------------------------\n",
    "#       Sqrt(s1^2/n1 + s2^2/n2)"
   ]
  },
  {
   "cell_type": "code",
   "execution_count": 253,
   "metadata": {},
   "outputs": [
    {
     "data": {
      "text/plain": [
       "7.650594359887707"
      ]
     },
     "execution_count": 253,
     "metadata": {},
     "output_type": "execute_result"
    }
   ],
   "source": [
    "(sa_mean-pa_mean)/((pa_var/pa_sample_size)+(sa_var/sa_sample_size))**(.5)"
   ]
  },
  {
   "cell_type": "code",
   "execution_count": 258,
   "metadata": {},
   "outputs": [],
   "source": [
    "CI = (sa_mean-pa_mean) + stats.t.ppf(.95,5)*((pa_var/pa_sample_size)+(sa_var/sa_sample_size))**(.5)"
   ]
  },
  {
   "cell_type": "code",
   "execution_count": 260,
   "metadata": {},
   "outputs": [
    {
     "data": {
      "text/plain": [
       "0.20786887172254057"
      ]
     },
     "execution_count": 260,
     "metadata": {},
     "output_type": "execute_result"
    }
   ],
   "source": [
    "CI"
   ]
  },
  {
   "cell_type": "code",
   "execution_count": 246,
   "metadata": {},
   "outputs": [
    {
     "data": {
      "text/plain": [
       "array([0.437, 0.456, 0.362, 0.397, 0.407])"
      ]
     },
     "execution_count": 246,
     "metadata": {},
     "output_type": "execute_result"
    }
   ],
   "source": [
    "accuracy[:2].mean()\n",
    "accuracy[4:]"
   ]
  },
  {
   "cell_type": "code",
   "execution_count": null,
   "metadata": {},
   "outputs": [],
   "source": [
    "CiUpper = Xa-Xv + st.norm.ppf(.975,)*((SDv**2/Nv)+(SDa**2/Na))**.5"
   ]
  },
  {
   "cell_type": "code",
   "execution_count": 196,
   "metadata": {},
   "outputs": [
    {
     "name": "stdout",
     "output_type": "stream",
     "text": [
      "0.4055\n",
      "0.5296000000000001\n",
      "0.0011292500000000005\n",
      "0.0039286400000000015\n",
      "4\n",
      "5\n"
     ]
    }
   ],
   "source": [
    "print(pa_mean)\n",
    "print(sa_mean)\n",
    "print(pa_var)\n",
    "print(sa_var)\n",
    "print(pa_sample_size)\n",
    "print(sa_sample_size)"
   ]
  },
  {
   "cell_type": "code",
   "execution_count": 403,
   "metadata": {},
   "outputs": [
    {
     "data": {
      "text/plain": [
       "array([ 1,  1,  3,  3,  2,  1,  1, 10,  2,  1])"
      ]
     },
     "execution_count": 403,
     "metadata": {},
     "output_type": "execute_result"
    }
   ],
   "source": [
    "np.random.choice([1,2,3,10],size=10,replace=True)"
   ]
  },
  {
   "cell_type": "code",
   "execution_count": 430,
   "metadata": {},
   "outputs": [
    {
     "data": {
      "text/plain": [
       "0.021862945821640778"
      ]
     },
     "execution_count": 430,
     "metadata": {},
     "output_type": "execute_result"
    }
   ],
   "source": [
    "def sample_mean_diff(series1,series2):\n",
    "    return (np.sum(series1)/(len(series1)-1)) - (sum(series2)/(len(series2)-1))\n",
    "\n",
    "def bootstrap(series1,series2,n):\n",
    "    list_of_means = []\n",
    "    for i in range(n):\n",
    "        list_of_means.append(round(np.mean(np.random.choice(series1,size=len(series1),replace=True))\\\n",
    "                            -np.mean(np.random.choice(series2,size=len(series2),replace=True)),2))\n",
    "    return list_of_means\n",
    "\n",
    "def sample_mean(series):\n",
    "    return np.sum(series) / (len(series) - 1)\n",
    "\n",
    "sample_averages = bootstrap(service_accuracies,product_accuracies,500)\n",
    "\n",
    "np.std(sample_averages)"
   ]
  },
  {
   "cell_type": "code",
   "execution_count": 437,
   "metadata": {},
   "outputs": [],
   "source": [
    "import seaborn as sns"
   ]
  },
  {
   "cell_type": "code",
   "execution_count": 450,
   "metadata": {},
   "outputs": [
    {
     "name": "stderr",
     "output_type": "stream",
     "text": [
      "/home/ubuntu/anaconda3/envs/tensorflow_p36/lib/python3.6/site-packages/scipy/stats/stats.py:1713: FutureWarning: Using a non-tuple sequence for multidimensional indexing is deprecated; use `arr[tuple(seq)]` instead of `arr[seq]`. In the future this will be interpreted as an array index, `arr[np.array(seq)]`, which will result either in an error or a different result.\n",
      "  return np.add.reduce(sorted[indexer] * weights, axis=axis) / sumval\n"
     ]
    },
    {
     "data": {
      "text/plain": [
       "<matplotlib.legend.Legend at 0x7fdafcd762b0>"
      ]
     },
     "execution_count": 450,
     "metadata": {},
     "output_type": "execute_result"
    },
    {
     "data": {
      "image/png": "[encoded data removed]",
      "text/plain": [
       "<Figure size 1008x360 with 1 Axes>"
      ]
     },
     "metadata": {},
     "output_type": "display_data"
    }
   ],
   "source": [
    "fig, ax = plt.subplots(1,figsize=(14,5))\n",
    "normal_approx = stats.norm(0, np.std(sample_averages))\n",
    "x1 = np.linspace(min(sample_averages),max(sample_averages),len(sample_averages))\n",
    "# sns.distplot(sample_averages,bins=25,ax=ax,hist=False,label='Value Hotel-Airbnb Mean Diff')\n",
    "\n",
    "\n",
    "# sns.distplot(value_averages,bins=25,ax=ax[1],label='Value_Score_Mean_Diff')\n",
    "# sns.distplot(sample_averages,bins=25,ax=ax[1],label='Overall_Score_Mean_Diff',hist=False)\n",
    "# ax[0].set_title('Value vs. Overall Airbnb Mean Score Difference')\n",
    "sns.distplot(sample_averages,bins=25,ax=ax,label='Overall_Score_Mean_Diff',hist=False)\n",
    "x = np.linspace(normal_approx.ppf(.000001), .2, num=1000)\n",
    "ax.set_title('Sample Mean Diff vs. Hypothesized Mean Diff',fontsize=15)\n",
    "ax.set_xlabel('mean difference',fontsize=15)\n",
    "ax.set_ylim(0,21)\n",
    "ax.plot(x,normal_approx.pdf(x),label='Null_Hypothesis_Mean_Diff')\n",
    "# ax.axvline(x=normal_approx.ppf(.025), color = 'red',alpha=.5,label='.95 CI',linestyle='--')\n",
    "ax.axvline(x=normal_approx.ppf(.95), color = 'red',alpha=.5,linestyle='--')\n",
    "ax.legend()"
   ]
  },
  {
   "cell_type": "code",
   "execution_count": 408,
   "metadata": {},
   "outputs": [
    {
     "data": {
      "text/plain": [
       "array([0.559, 0.615, 0.559])"
      ]
     },
     "execution_count": 408,
     "metadata": {},
     "output_type": "execute_result"
    }
   ],
   "source": [
    "np.random.choice(service_accuracies,size=len(service_accuracies),replace=True)"
   ]
  },
  {
   "cell_type": "code",
   "execution_count": 411,
   "metadata": {},
   "outputs": [],
   "source": [
    "def bootstrap(series1,series2,n):\n",
    "    list_of_means = []\n",
    "    for i in range(n):\n",
    "        list_of_means.append(round(sample_mean(np.random.choice(series1,size=len(series1),replace=True))\\\n",
    "                            -sample_mean(np.random.choice(series2,size=len(series2),replace=True)),2))\n",
    "    return list_of_means"
   ]
  },
  {
   "cell_type": "markdown",
   "metadata": {},
   "source": [
    "# Airbnb Check"
   ]
  },
  {
   "cell_type": "code",
   "execution_count": 4,
   "metadata": {},
   "outputs": [
    {
     "name": "stdout",
     "output_type": "stream",
     "text": [
      "avg: review length:  48.242925\n"
     ]
    }
   ],
   "source": [
    "df = pd.read_pickle('df_reviews.pickle')\n",
    "df = df.drop_duplicates()\n",
    "# df = df[['comments']]\n",
    "\n",
    "df2 = pd.read_pickle('df_listings.pickle')\n",
    "df2 = df2[['id','review_scores_rating']]\n",
    "df2.columns = ['listing_id','stars']\n",
    "df2 = df2.groupby('listing_id')[['stars']].min().apply(lambda x: np.round(x/20)).replace(0.0,\n",
    "                                                                                                2.0).replace(1.0\n",
    "                                                                                                             ,2.0)\n",
    "df = df.merge(df2,how='left',on='listing_id')\n",
    "df = df[['comments','stars']].sample(40000)\n",
    "df.columns = ['text','stars']\n",
    "\n",
    "# idx_2 = df[df['stars'] == 2].index\n",
    "# idx_3 = df[df['stars'] == 3].index\n",
    "# idx_4 = df[df['stars'] == 4].index\n",
    "# idx_5 = df[df['stars'] == 5].index\n",
    "\n",
    "# np.random.seed(10)\n",
    "# sample_idx_2 = np.random.choice(idx_2,replace=False,size=847)\n",
    "# sample_idx_3 = np.random.choice(idx_3,replace=False,size=4263)\n",
    "# sample_idx_4 = np.random.choice(idx_4,replace=False,size=4263)\n",
    "# sample_idx_5 = np.random.choice(idx_5,replace=False,size=4263)\n",
    "\n",
    "# df = pd.concat([df.loc[sample_idx_2],\n",
    "#            df.loc[sample_idx_3],\n",
    "#            df.loc[sample_idx_4],\n",
    "#            df.loc[sample_idx_5]],axis=0)\n",
    "\n",
    "\n",
    "\n",
    "X = df['text']\n",
    "y = df['stars']\n",
    "\n",
    "del df\n",
    "print('avg: review length: ',X.apply(lambda x: len(x.split())).mean())\n",
    "X = np.vstack([transform(doc,150,word_dict) for doc in X])"
   ]
  },
  {
   "cell_type": "code",
   "execution_count": 29,
   "metadata": {},
   "outputs": [
    {
     "data": {
      "text/plain": [
       "5.0    4263\n",
       "4.0    4263\n",
       "3.0    4263\n",
       "2.0     847\n",
       "Name: stars, dtype: int64"
      ]
     },
     "execution_count": 29,
     "metadata": {},
     "output_type": "execute_result"
    }
   ],
   "source": [
    "y.value_counts()"
   ]
  },
  {
   "cell_type": "code",
   "execution_count": 5,
   "metadata": {},
   "outputs": [
    {
     "name": "stdout",
     "output_type": "stream",
     "text": [
      "% breakdown accuracy incl. 1 error:  [0.11355  0.7501   0.091125]\n",
      "% total accuracy incl. 1 error:  0.954775\n"
     ]
    }
   ],
   "source": [
    "y_predictions = model.predict_classes(X)\n",
    "\n",
    "y_predictions = model.predict_classes(X)\n",
    "y_diff = (y_predictions+2) - y.values\n",
    "((y_predictions+2) == y.values).mean()\n",
    "\n",
    "print('% breakdown accuracy incl. 1 error: ',np.unique(y_diff,return_counts=True)[1][2:5]/y_diff.shape[0])\n",
    "print('% total accuracy incl. 1 error: ',np.sum(np.unique(y_diff,return_counts=True)[1][2:5]/y_diff.shape[0]))"
   ]
  },
  {
   "cell_type": "code",
   "execution_count": 27,
   "metadata": {},
   "outputs": [
    {
     "data": {
      "text/plain": [
       "array([   21,   131,  5357, 34314])"
      ]
     },
     "execution_count": 27,
     "metadata": {},
     "output_type": "execute_result"
    }
   ],
   "source": [
    "y.value_counts().sort_values().values"
   ]
  },
  {
   "cell_type": "code",
   "execution_count": 56,
   "metadata": {},
   "outputs": [
    {
     "data": {
      "text/plain": [
       "Text(0, 0.5, 'Count')"
      ]
     },
     "execution_count": 56,
     "metadata": {},
     "output_type": "execute_result"
    },
    {
     "data": {
      "image/png": "[encoded data removed]",
      "text/plain": [
       "<Figure size 576x360 with 1 Axes>"
      ]
     },
     "metadata": {},
     "output_type": "display_data"
    }
   ],
   "source": [
    "ybar_pred = np.unique(y_predictions,return_counts=True)[1]\n",
    "xbar_pred = [2,3,4,5]\n",
    "ybar_test = y.value_counts().sort_values().values\n",
    "xbar_test = [2,3,4,5]\n",
    "\n",
    "fig,ax = plt.subplots(figsize=(8,5))\n",
    "ax.bar(xbar_test,ybar_test,color='orchid')\n",
    "ax.bar(xbar_pred,ybar_pred,width=.4,alpha=.6,color='black')\n",
    "\n",
    "ax.set_title('Predicting Airbnb Review Scores',fontsize=15)\n",
    "ax.set_xlabel('Scores (2-5)',fontsize=15)\n",
    "ax.set_ylabel('Count',fontsize=15)\n",
    "\n",
    "#plt.bar(xbar_test,ybar_test)"
   ]
  },
  {
   "cell_type": "code",
   "execution_count": 12,
   "metadata": {},
   "outputs": [
    {
     "name": "stderr",
     "output_type": "stream",
     "text": [
      "/home/ubuntu/anaconda3/envs/tensorflow_p36/lib/python3.6/site-packages/numpy/lib/histograms.py:754: RuntimeWarning: invalid value encountered in greater_equal\n",
      "  keep = (tmp_a >= first_edge)\n",
      "/home/ubuntu/anaconda3/envs/tensorflow_p36/lib/python3.6/site-packages/numpy/lib/histograms.py:755: RuntimeWarning: invalid value encountered in less_equal\n",
      "  keep &= (tmp_a <= last_edge)\n"
     ]
    },
    {
     "data": {
      "text/plain": [
       "(array([2.1000e+01, 0.0000e+00, 0.0000e+00, 1.3100e+02, 0.0000e+00,\n",
       "        0.0000e+00, 5.3570e+03, 0.0000e+00, 0.0000e+00, 3.4314e+04]),\n",
       " array([2. , 2.3, 2.6, 2.9, 3.2, 3.5, 3.8, 4.1, 4.4, 4.7, 5. ]),\n",
       " <a list of 10 Patch objects>)"
      ]
     },
     "execution_count": 12,
     "metadata": {},
     "output_type": "execute_result"
    },
    {
     "data": {
      "image/png": "[encoded data removed]",
      "text/plain": [
       "<Figure size 432x288 with 1 Axes>"
      ]
     },
     "metadata": {},
     "output_type": "display_data"
    }
   ],
   "source": [
    "plt.hist(y_predictions+2)\n",
    "plt.hist(y)"
   ]
  },
  {
   "cell_type": "code",
   "execution_count": 65,
   "metadata": {},
   "outputs": [
    {
     "data": {
      "text/plain": [
       "[<matplotlib.axis.XTick at 0x7f1180770d30>,\n",
       " <matplotlib.axis.XTick at 0x7f11807706a0>,\n",
       " <matplotlib.axis.XTick at 0x7f11807703c8>,\n",
       " <matplotlib.axis.XTick at 0x7f118050cb38>]"
      ]
     },
     "execution_count": 65,
     "metadata": {},
     "output_type": "execute_result"
    },
    {
     "data": {
      "image/png": "[encoded data removed]",
      "text/plain": [
       "<Figure size 504x360 with 1 Axes>"
      ]
     },
     "metadata": {},
     "output_type": "display_data"
    }
   ],
   "source": [
    "fig, ax = plt.subplots(1,figsize=(7,5))\n",
    "# plt.hist(y)\n",
    "\n",
    "ax.hist(y,alpha=.5,color='yellow')\n",
    "ax.hist(y_predictions+2,alpha=.6,color='blue')\n",
    "ax.set_xlabel('classes',fontsize=13)\n",
    "ax.set_ylabel('count',fontsize=13)\n",
    "ax.set_title('Airbnb balanced predictions vs aggregated totals')\n",
    "\n",
    "ticks = [2,3,4,5]\n",
    "ax.set_xticks(ticks)\n"
   ]
  }
 ],
 "metadata": {
  "kernelspec": {
   "display_name": "Python [conda env:tensorflow_p36]",
   "language": "python",
   "name": "conda-env-tensorflow_p36-py"
  },
  "language_info": {
   "codemirror_mode": {
    "name": "ipython",
    "version": 3
   },
   "file_extension": ".py",
   "mimetype": "text/x-python",
   "name": "python",
   "nbconvert_exporter": "python",
   "pygments_lexer": "ipython3",
   "version": "3.6.5"
  }
 },
 "nbformat": 4,
 "nbformat_minor": 2
}
