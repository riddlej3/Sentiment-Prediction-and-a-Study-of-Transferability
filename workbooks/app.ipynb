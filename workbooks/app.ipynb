{
 "cells": [
  {
   "cell_type": "markdown",
   "metadata": {},
   "source": [
    "# Trip Advisor Model Applied to Text Examples for Presi\n",
    "- this is basically the notebook version of app.py applied to several example for sake of presentation.\n",
    "- again, this format is easily loopable\n"
   ]
  },
  {
   "cell_type": "code",
   "execution_count": 1,
   "metadata": {},
   "outputs": [
    {
     "name": "stderr",
     "output_type": "stream",
     "text": [
      "Using TensorFlow backend.\n"
     ]
    }
   ],
   "source": [
    "import pandas as pd\n",
    "import numpy as np\n",
    "import os\n",
    "from keras.models import load_model\n",
    "\n",
    "os.chdir('/home/ubuntu/Notebooks/capstone2/src')\n",
    "from app_module import *\n",
    "from app_module import word_dict\n",
    "tensorflow_quiet()\n",
    "\n",
    "os.chdir('/home/ubuntu/Notebooks/capstone2/')\n",
    "review = pd.read_csv('review.txt', header = None,sep='\\t').values[0][0]\n",
    "os.chdir('/home/ubuntu/Notebooks/capstone2/data')\n",
    "review2 = pd.read_csv('review2.txt', header = None,sep='\\t').values[0][0]\n",
    "review3 = pd.read_csv('review3.txt', header = None,sep='\\t').values[0][0]\n",
    "review4 = pd.read_csv('review4.txt', header = None,sep='\\t').values[0][0]\n",
    "\n",
    "os.chdir(\"/home/ubuntu/Notebooks/data\")\n",
    "model = load_model(\"first_model_ta2.h5\")"
   ]
  },
  {
   "cell_type": "code",
   "execution_count": 2,
   "metadata": {},
   "outputs": [],
   "source": [
    "t1 = pd.DataFrame([run_model(review[1:],int(review[0]),dictionary=word_dict,model=model)])\n",
    "t2 = pd.DataFrame([run_model(review2[1:],int(review2[0]),dictionary=word_dict,model=model)])\n",
    "t3 = pd.DataFrame([run_model(review3[1:],int(review3[0]),dictionary=word_dict,model=model)])\n",
    "t4 = pd.DataFrame([run_model(review4[1:],int(review4[0]),dictionary=word_dict,model=model)])"
   ]
  },
  {
   "cell_type": "code",
   "execution_count": 3,
   "metadata": {
    "scrolled": true
   },
   "outputs": [
    {
     "data": {
      "text/html": [
       "<div>\n",
       "<style scoped>\n",
       "    .dataframe tbody tr th:only-of-type {\n",
       "        vertical-align: middle;\n",
       "    }\n",
       "\n",
       "    .dataframe tbody tr th {\n",
       "        vertical-align: top;\n",
       "    }\n",
       "\n",
       "    .dataframe thead th {\n",
       "        text-align: right;\n",
       "    }\n",
       "</style>\n",
       "<table border=\"1\" class=\"dataframe\">\n",
       "  <thead>\n",
       "    <tr style=\"text-align: right;\">\n",
       "      <th></th>\n",
       "      <th>review</th>\n",
       "      <th>label</th>\n",
       "      <th>score</th>\n",
       "      <th>pred</th>\n",
       "      <th>probability</th>\n",
       "    </tr>\n",
       "  </thead>\n",
       "  <tbody>\n",
       "    <tr>\n",
       "      <th>0</th>\n",
       "      <td>Overall I had a great time without any mishaps...</td>\n",
       "      <td>Requires Review</td>\n",
       "      <td>3</td>\n",
       "      <td>5</td>\n",
       "      <td>0.56</td>\n",
       "    </tr>\n",
       "    <tr>\n",
       "      <th>0</th>\n",
       "      <td>Overall I had a great time without any mishaps...</td>\n",
       "      <td>Requires Review</td>\n",
       "      <td>3</td>\n",
       "      <td>5</td>\n",
       "      <td>0.56</td>\n",
       "    </tr>\n",
       "    <tr>\n",
       "      <th>0</th>\n",
       "      <td>The room is small  although efficient, We coul...</td>\n",
       "      <td>Accurate</td>\n",
       "      <td>2</td>\n",
       "      <td>3</td>\n",
       "      <td>0.82</td>\n",
       "    </tr>\n",
       "    <tr>\n",
       "      <th>0</th>\n",
       "      <td>Ina is a lovely host and made us feel welcome ...</td>\n",
       "      <td>Accurate</td>\n",
       "      <td>4</td>\n",
       "      <td>4</td>\n",
       "      <td>0.99</td>\n",
       "    </tr>\n",
       "  </tbody>\n",
       "</table>\n",
       "</div>"
      ],
      "text/plain": [
       "                                              review            label  score  \\\n",
       "0  Overall I had a great time without any mishaps...  Requires Review      3   \n",
       "0  Overall I had a great time without any mishaps...  Requires Review      3   \n",
       "0  The room is small  although efficient, We coul...         Accurate      2   \n",
       "0  Ina is a lovely host and made us feel welcome ...         Accurate      4   \n",
       "\n",
       "   pred  probability  \n",
       "0     5         0.56  \n",
       "0     5         0.56  \n",
       "0     3         0.82  \n",
       "0     4         0.99  "
      ]
     },
     "execution_count": 3,
     "metadata": {},
     "output_type": "execute_result"
    }
   ],
   "source": [
    "pd.concat([t1,t2,t3,t4])[['review','label','score','pred','probability']]"
   ]
  }
 ],
 "metadata": {
  "kernelspec": {
   "display_name": "Python [conda env:tensorflow_p36]",
   "language": "python",
   "name": "conda-env-tensorflow_p36-py"
  },
  "language_info": {
   "codemirror_mode": {
    "name": "ipython",
    "version": 3
   },
   "file_extension": ".py",
   "mimetype": "text/x-python",
   "name": "python",
   "nbconvert_exporter": "python",
   "pygments_lexer": "ipython3",
   "version": "3.6.5"
  }
 },
 "nbformat": 4,
 "nbformat_minor": 2
}
