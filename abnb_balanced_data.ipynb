{
 "cells": [
  {
   "cell_type": "markdown",
   "metadata": {},
   "source": [
    "### Need to pull data and data that has the same amount of reviews per home"
   ]
  },
  {
   "cell_type": "code",
   "execution_count": 1,
   "metadata": {},
   "outputs": [],
   "source": [
    "import pandas as pd\n",
    "import numpy as np\n",
    "import matplotlib.pyplot as plt\n",
    "import seaborn as sns\n",
    "import nltk\n",
    "from sklearn.feature_extraction.text import CountVectorizer,TfidfVectorizer\n",
    "from sklearn.model_selection import train_test_split\n",
    "from sklearn.naive_bayes import MultinomialNB\n",
    "from sklearn.metrics import confusion_matrix\n",
    "from sklearn.metrics import classification_report\n",
    "from functions import sample_mean\n",
    "from lists import stop_words,noise\n",
    "from plots import model_plots\n",
    "import string\n",
    "import warnings\n",
    "import os\n",
    "\n",
    "\n",
    "%matplotlib inline\n",
    "punctuation = set(string.punctuation)\n",
    "sws = stop_words().get_sws()\n",
    "noise = noise().get_noise()\n",
    "\n",
    "\n",
    "warnings.filterwarnings('ignore')\n",
    "pd.set_option('display.max_columns',500)\n",
    "\n",
    "listings = pd.read_pickle('/home/ubuntu/Notebooks/data/df_listings.pickle')"
   ]
  },
  {
   "cell_type": "code",
   "execution_count": 2,
   "metadata": {},
   "outputs": [],
   "source": [
    "unique_listings = listings.groupby('id')[['review_scores_rating']]\\\n",
    "                          .agg('min').dropna()#.sample(frac=(1/8),random_state=3)\n",
    "unique_listings['score'] = unique_listings['review_scores_rating'].div(20).round().replace(0,1)\n",
    "\n",
    "unique_listings1 = unique_listings[unique_listings['score']==1]\n",
    "unique_listings2 = unique_listings[unique_listings['score']==2]\n",
    "unique_listings3 = unique_listings[unique_listings['score']==3]\n",
    "unique_listings4 = unique_listings[unique_listings['score']==4]\n",
    "unique_listings5 = unique_listings[unique_listings['score']==5]\n",
    "\n",
    "unique_listings3 = unique_listings3.sample(n=100,random_state=3)\n",
    "unique_listings4 = unique_listings4.sample(n=100,random_state=3)\n",
    "unique_listings5 = unique_listings5.sample(n=100,random_state=3)"
   ]
  },
  {
   "cell_type": "code",
   "execution_count": 3,
   "metadata": {},
   "outputs": [],
   "source": [
    "unique_listings = pd.concat([unique_listings1,\n",
    "                             unique_listings2,\n",
    "                             unique_listings3,\n",
    "                             unique_listings4,\n",
    "                             unique_listings5]).reset_index()\n",
    "\n",
    "unique_listings.columns = ['listing_id', 'review_scores_rating', 'score']\n",
    "listings_distribution = unique_listings['score'].value_counts()/unique_listings['score'].value_counts().sum()"
   ]
  },
  {
   "cell_type": "code",
   "execution_count": 22,
   "metadata": {},
   "outputs": [
    {
     "data": {
      "text/plain": [
       "Text(0,0.5,'Proportion of total')"
      ]
     },
     "execution_count": 22,
     "metadata": {},
     "output_type": "execute_result"
    },
    {
     "data": {
      "image/png": "[encoded data removed]",
      "text/plain": [
       "<Figure size 1080x360 with 1 Axes>"
      ]
     },
     "metadata": {},
     "output_type": "display_data"
    }
   ],
   "source": [
    "plt.figure(figsize=(15,5))\n",
    "plt.bar(listings_distribution.index,listings_distribution.values)\n",
    "plt.title('Score Proportions with Total Counts')\n",
    "plt.xlabel('Score')\n",
    "plt.ylabel('Proportion of total')"
   ]
  },
  {
   "cell_type": "code",
   "execution_count": 21,
   "metadata": {},
   "outputs": [
    {
     "name": "stdout",
     "output_type": "stream",
     "text": [
      "(1436585, 7)\n"
     ]
    },
    {
     "data": {
      "text/plain": [
       "(9167, 8)"
      ]
     },
     "execution_count": 21,
     "metadata": {},
     "output_type": "execute_result"
    }
   ],
   "source": [
    "reviews = pd.read_pickle('/home/ubuntu/Notebooks/data/df_reviews.pickle').drop_duplicates()\n",
    "\n",
    "reviews = reviews.reset_index()\n",
    "print(reviews.shape)\n",
    "remove_indices = reviews[reviews['comments']\\\n",
    "                         .str.contains('days before arrival. This is an automated posting.')].index\n",
    "reviews = reviews.drop(remove_indices)\n",
    "reviews\n",
    "reviews = reviews.set_index('listing_id').join(unique_listings.set_index('listing_id'),\n",
    "                                     how='inner').reset_index(drop=True)\n",
    "reviews.shape"
   ]
  },
  {
   "cell_type": "code",
   "execution_count": 6,
   "metadata": {},
   "outputs": [],
   "source": [
    "reviews1 = reviews[reviews['score']==1]\n",
    "reviews2 = reviews[reviews['score']==2]\n",
    "reviews3 = reviews[reviews['score']==3].sample(n = 1000,random_state=3)\n",
    "reviews4 = reviews[reviews['score']==4].sample(n = 1000,random_state=3)\n",
    "reviews5 = reviews[reviews['score']==5].sample(n = 1000,random_state=3)\n",
    "reviews_new = pd.concat([reviews1,reviews2,reviews3,reviews4,reviews5])"
   ]
  },
  {
   "cell_type": "code",
   "execution_count": 7,
   "metadata": {
    "scrolled": true
   },
   "outputs": [
    {
     "data": {
      "text/plain": [
       "Text(0,0.5,'Proportion of total')"
      ]
     },
     "execution_count": 7,
     "metadata": {},
     "output_type": "execute_result"
    },
    {
     "data": {
      "image/png": "[encoded data removed]",
      "text/plain": [
       "<Figure size 1080x360 with 1 Axes>"
      ]
     },
     "metadata": {},
     "output_type": "display_data"
    }
   ],
   "source": [
    "plt.figure(figsize=(15,5))\n",
    "plt.bar(reviews_new['score'].value_counts().index,reviews_new['score'].value_counts().values)\n",
    "plt.title('Score Proportions with Total Counts')\n",
    "plt.xlabel('Score')\n",
    "plt.ylabel('Proportion of total')"
   ]
  },
  {
   "cell_type": "code",
   "execution_count": 32,
   "metadata": {},
   "outputs": [
    {
     "name": "stdout",
     "output_type": "stream",
     "text": [
      "(308014, 32)\n"
     ]
    },
    {
     "data": {
      "text/plain": [
       "173"
      ]
     },
     "execution_count": 32,
     "metadata": {},
     "output_type": "execute_result"
    }
   ],
   "source": [
    "print(listings.shape)\n",
    "listings['review_scores_rating'].lt(40).sum()"
   ]
  },
  {
   "cell_type": "code",
   "execution_count": null,
   "metadata": {},
   "outputs": [],
   "source": []
  }
 ],
 "metadata": {
  "kernelspec": {
   "display_name": "Python 3",
   "language": "python",
   "name": "python3"
  },
  "language_info": {
   "codemirror_mode": {
    "name": "ipython",
    "version": 3
   },
   "file_extension": ".py",
   "mimetype": "text/x-python",
   "name": "python",
   "nbconvert_exporter": "python",
   "pygments_lexer": "ipython3",
   "version": "3.6.5"
  }
 },
 "nbformat": 4,
 "nbformat_minor": 2
}
