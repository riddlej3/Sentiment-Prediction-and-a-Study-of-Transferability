{
 "cells": [
  {
   "cell_type": "markdown",
   "metadata": {},
   "source": [
    "# Trip Advisor Model Testing Notebook"
   ]
  },
  {
   "cell_type": "markdown",
   "metadata": {},
   "source": [
    "- This notebook is used for testing the TA (trip advisor) trained model on a variety of other datasets, beginning with a test of the TA data itself using data not included in the original training and validation of the model"
   ]
  },
  {
   "cell_type": "markdown",
   "metadata": {},
   "source": [
    "\n",
    "### RUN THIS FIRST before anything else"
   ]
  },
  {
   "cell_type": "code",
   "execution_count": 20,
   "metadata": {},
   "outputs": [],
   "source": [
    "import pandas as pd\n",
    "import numpy as np\n",
    "import tensorflow as tf\n",
    "import string\n",
    "import warnings\n",
    "import pickle\n",
    "import os\n",
    "\n",
    "from keras.models import load_model\n",
    "from keras.preprocessing.text import Tokenizer\n",
    "from keras.preprocessing.sequence import pad_sequences\n",
    "from sklearn.metrics import classification_report\n",
    "import matplotlib.pyplot as plt\n",
    "\n",
    "os.chdir('/home/ubuntu/Notebooks/capstone2/src')\n",
    "from app_module import _lower_rm_punct, _my_padding, transform\n",
    "# from lists import stop_words,noise\n",
    "from functions import sample_mean\n",
    "from plots import model_plots\n",
    "\n",
    "%matplotlib inline\n",
    "punctuation = set(string.punctuation)\n",
    "\n",
    "file = 'word_dict_ta_new.pkl'\n",
    "os.chdir('/home/ubuntu/Notebooks/capstone2/data')\n",
    "with open(file, 'rb') as f:\n",
    "    word_dict = pickle.load(f)\n",
    "    \n",
    "os.chdir('/home/ubuntu/Notebooks/data')\n",
    "model = load_model('first_model_ta.h5')"
   ]
  },
  {
   "cell_type": "markdown",
   "metadata": {},
   "source": [
    "# Ta Test"
   ]
  },
  {
   "cell_type": "markdown",
   "metadata": {},
   "source": [
    "### Train DATA"
   ]
  },
  {
   "cell_type": "code",
   "execution_count": 63,
   "metadata": {},
   "outputs": [],
   "source": [
    "# set path for trip advisor data\n",
    "os.chdir('/home/ubuntu/Notebooks/data')\n",
    "df = pd.read_pickle('ta/ta_test.pickle')#.replace(1.0,2.0).replace(0.0,2.0)\n",
    "\n",
    "idx_2 = df[df['ratings_overall'] == 2].index\n",
    "idx_3 = df[df['ratings_overall'] == 3].index\n",
    "idx_4 = df[df['ratings_overall'] == 4].index\n",
    "idx_5 = df[df['ratings_overall'] == 5].index\n",
    "\n",
    "np.random.seed(10)\n",
    "sample_idx_2 = np.random.choice(idx_2,replace=False,size=2800)\n",
    "sample_idx_3 = np.random.choice(idx_3,replace=False,size=2800)\n",
    "sample_idx_4 = np.random.choice(idx_4,replace=False,size=2800)\n",
    "sample_idx_5 = np.random.choice(idx_5,replace=False,size=2800)\n",
    "\n",
    "df = pd.concat([ta_data.loc[sample_idx_2],\n",
    "           df.loc[sample_idx_3],\n",
    "           df.loc[sample_idx_4],\n",
    "           df.loc[sample_idx_5]],axis=0).sample(frac=1)\n",
    "\n",
    "df.columns = ['text','stars']\n",
    "\n",
    "X = df['text']\n",
    "y = df['stars'].replace(1,2)\n",
    "del df\n",
    "X = np.vstack([transform(doc,161,word_dict) for doc in X])"
   ]
  },
  {
   "cell_type": "markdown",
   "metadata": {},
   "source": [
    "### Accuracy Report"
   ]
  },
  {
   "cell_type": "code",
   "execution_count": 65,
   "metadata": {},
   "outputs": [
    {
     "name": "stdout",
     "output_type": "stream",
     "text": [
      "% breakdown accuracy incl. 1 error:  [0.14375    0.58705357 0.226875  ]\n",
      "% total accuracy incl. 1 error:  0.9576785714285714\n"
     ]
    }
   ],
   "source": [
    "y_predictions = model.predict_classes(X)\n",
    "y_pred = y_predictions+2\n",
    "y_diff = (y_pred) - y.values\n",
    "print('% breakdown accuracy incl. 1 error: ',np.unique(y_diff,return_counts=True)[1][2:5]/y_diff.shape[0])\n",
    "print('% total accuracy incl. 1 error: ',np.sum(np.unique(y_diff,return_counts=True)[1][2:5]/y_diff.shape[0]))"
   ]
  },
  {
   "cell_type": "code",
   "execution_count": 69,
   "metadata": {},
   "outputs": [
    {
     "name": "stdout",
     "output_type": "stream",
     "text": [
      "              precision    recall  f1-score   support\n",
      "\n",
      "           2       0.74      0.57      0.64      2800\n",
      "           3       0.49      0.49      0.49      2800\n",
      "           4       0.48      0.60      0.53      2800\n",
      "           5       0.70      0.70      0.70      2800\n",
      "\n",
      "   micro avg       0.59      0.59      0.59     11200\n",
      "   macro avg       0.60      0.59      0.59     11200\n",
      "weighted avg       0.60      0.59      0.59     11200\n",
      "\n"
     ]
    }
   ],
   "source": [
    "print(classification_report(y.values,y_pred))"
   ]
  },
  {
   "cell_type": "markdown",
   "metadata": {},
   "source": [
    "# Hotel Test"
   ]
  },
  {
   "cell_type": "code",
   "execution_count": 70,
   "metadata": {},
   "outputs": [
    {
     "name": "stdout",
     "output_type": "stream",
     "text": [
      "avg: review length:  50.196993318485525\n"
     ]
    }
   ],
   "source": [
    "df = pd.read_pickle('/home/ubuntu/Notebooks/capstone2/data/hotels.pickle')\n",
    "df = df[df['language'] == 'en']\n",
    "df = df[['reviews.text','reviews.rating']].drop_duplicates().replace(1.0,2.0).replace(0.0,2.0)\n",
    "df.columns = ['text','stars']\n",
    "\n",
    "idx_2 = df[df['stars'] == 2].index\n",
    "idx_3 = df[df['stars'] == 3].index\n",
    "idx_4 = df[df['stars'] == 4].index\n",
    "idx_5 = df[df['stars'] == 5].index\n",
    "\n",
    "np.random.seed(10)\n",
    "sample_idx_2 = np.random.choice(idx_2,replace=False,size=2245)\n",
    "sample_idx_3 = np.random.choice(idx_3,replace=False,size=2245)\n",
    "sample_idx_4 = np.random.choice(idx_4,replace=False,size=2245)\n",
    "sample_idx_5 = np.random.choice(idx_5,replace=False,size=2245)\n",
    "\n",
    "df = pd.concat([df.loc[sample_idx_2],\n",
    "           df.loc[sample_idx_3],\n",
    "           df.loc[sample_idx_4],\n",
    "           df.loc[sample_idx_5]],axis=0)\n",
    "\n",
    "X = df['text']\n",
    "y = df['stars']\n",
    "del df\n",
    "print('avg: review length: ',X.apply(lambda x: len(x.split())).mean())\n",
    "X = np.vstack([transform(doc,161,word_dict) for doc in X])"
   ]
  },
  {
   "cell_type": "code",
   "execution_count": 71,
   "metadata": {},
   "outputs": [
    {
     "name": "stdout",
     "output_type": "stream",
     "text": [
      "% breakdown accuracy incl. 1 error:  [0.17639198 0.56570156 0.17505568]\n",
      "% total accuracy incl. 1 error:  0.9171492204899778\n",
      "              precision    recall  f1-score   support\n",
      "\n",
      "         2.0       0.66      0.74      0.70      2245\n",
      "         3.0       0.49      0.43      0.46      2245\n",
      "         4.0       0.47      0.43      0.45      2245\n",
      "         5.0       0.61      0.66      0.63      2245\n",
      "\n",
      "   micro avg       0.57      0.57      0.57      8980\n",
      "   macro avg       0.56      0.57      0.56      8980\n",
      "weighted avg       0.56      0.57      0.56      8980\n",
      "\n"
     ]
    }
   ],
   "source": [
    "y_predictions = model.predict_classes(X)\n",
    "y_pred = y_predictions+2\n",
    "y_diff = (y_pred) - y.values\n",
    "print('% breakdown accuracy incl. 1 error: ',np.unique(y_diff,return_counts=True)[1][2:5]/y_diff.shape[0])\n",
    "print('% total accuracy incl. 1 error: ',np.sum(np.unique(y_diff,return_counts=True)[1][2:5]/y_diff.shape[0]))\n",
    "print(classification_report(y.values,y_pred))"
   ]
  },
  {
   "cell_type": "markdown",
   "metadata": {},
   "source": [
    "# Yelp Test"
   ]
  },
  {
   "cell_type": "code",
   "execution_count": 72,
   "metadata": {},
   "outputs": [
    {
     "name": "stdout",
     "output_type": "stream",
     "text": [
      "avg: review length:  115.92149220489978\n"
     ]
    }
   ],
   "source": [
    "df = pd.read_pickle('/home/ubuntu/Notebooks/data/yelp_reviews.p')\n",
    "df = df[['text','stars']].drop_duplicates().replace(1.0,2.0)\n",
    "\n",
    "\n",
    "idx_2 = df[df['stars'] == 2].index\n",
    "idx_3 = df[df['stars'] == 3].index\n",
    "idx_4 = df[df['stars'] == 4].index\n",
    "idx_5 = df[df['stars'] == 5].index\n",
    "\n",
    "np.random.seed(10)\n",
    "sample_idx_2 = np.random.choice(idx_2,replace=False,size=2245)\n",
    "sample_idx_3 = np.random.choice(idx_3,replace=False,size=2245)\n",
    "sample_idx_4 = np.random.choice(idx_4,replace=False,size=2245)\n",
    "sample_idx_5 = np.random.choice(idx_5,replace=False,size=2245)\n",
    "\n",
    "df = pd.concat([df.loc[sample_idx_2],\n",
    "           df.loc[sample_idx_3],\n",
    "           df.loc[sample_idx_4],\n",
    "           df.loc[sample_idx_5]],axis=0)\n",
    "\n",
    "\n",
    "X = df['text']\n",
    "y = df['stars']\n",
    "del df\n",
    "print('avg: review length: ',X.apply(lambda x: len(x.split())).mean())\n",
    "X = np.vstack([transform(doc,161,word_dict) for doc in X])"
   ]
  },
  {
   "cell_type": "code",
   "execution_count": 73,
   "metadata": {},
   "outputs": [],
   "source": [
    "y_predictions = model.predict_classes(X)\n",
    "y_pred = y_predictions+2\n",
    "y_diff = (y_pred) - y.values"
   ]
  },
  {
   "cell_type": "code",
   "execution_count": 74,
   "metadata": {},
   "outputs": [
    {
     "name": "stdout",
     "output_type": "stream",
     "text": [
      "% breakdown accuracy incl. 1 error:  [0.12193764 0.56280624 0.23730512]\n",
      "% total accuracy incl. 1 error:  0.9220489977728286\n",
      "              precision    recall  f1-score   support\n",
      "\n",
      "         2.0       0.79      0.60      0.68      2245\n",
      "         3.0       0.48      0.49      0.49      2245\n",
      "         4.0       0.44      0.48      0.46      2245\n",
      "         5.0       0.61      0.68      0.64      2245\n",
      "\n",
      "   micro avg       0.56      0.56      0.56      8980\n",
      "   macro avg       0.58      0.56      0.57      8980\n",
      "weighted avg       0.58      0.56      0.57      8980\n",
      "\n"
     ]
    }
   ],
   "source": [
    "print('% breakdown accuracy incl. 1 error: ',np.unique(y_diff,return_counts=True)[1][2:5]/y_diff.shape[0])\n",
    "print('% total accuracy incl. 1 error: ',np.sum(np.unique(y_diff,return_counts=True)[1][2:5]/y_diff.shape[0]))\n",
    "print(classification_report(y.values,y_pred))"
   ]
  },
  {
   "cell_type": "markdown",
   "metadata": {},
   "source": [
    "# Movie Test"
   ]
  },
  {
   "cell_type": "code",
   "execution_count": 77,
   "metadata": {},
   "outputs": [
    {
     "name": "stdout",
     "output_type": "stream",
     "text": [
      "avg: review length:  132.5476614699332\n"
     ]
    }
   ],
   "source": [
    "df = pd.read_pickle('/home/ubuntu/Notebooks/data/amzn_reviews.pickle')\n",
    "df = df[['reviewText','overall']].drop_duplicates().replace(1.0,2.0)\n",
    "df.columns = ['text','stars']\n",
    "\n",
    "idx_2 = df[df['stars'] == 2].index\n",
    "idx_3 = df[df['stars'] == 3].index\n",
    "idx_4 = df[df['stars'] == 4].index\n",
    "idx_5 = df[df['stars'] == 5].index\n",
    "\n",
    "np.random.seed(10)\n",
    "sample_idx_2 = np.random.choice(idx_2,replace=False,size=2245)\n",
    "sample_idx_3 = np.random.choice(idx_3,replace=False,size=2245)\n",
    "sample_idx_4 = np.random.choice(idx_4,replace=False,size=2245)\n",
    "sample_idx_5 = np.random.choice(idx_5,replace=False,size=2245)\n",
    "\n",
    "df = pd.concat([df.loc[sample_idx_2],\n",
    "           df.loc[sample_idx_3],\n",
    "           df.loc[sample_idx_4],\n",
    "           df.loc[sample_idx_5]],axis=0)\n",
    "\n",
    "X = df['text']\n",
    "y = df['stars']\n",
    "\n",
    "del df\n",
    "print('avg: review length: ',X.apply(lambda x: len(x.split())).mean())\n",
    "X = np.vstack([transform(doc,161,word_dict) for doc in X])"
   ]
  },
  {
   "cell_type": "code",
   "execution_count": 78,
   "metadata": {},
   "outputs": [
    {
     "name": "stdout",
     "output_type": "stream",
     "text": [
      "% breakdown accuracy incl. 1 error:  [0.15567929 0.43730512 0.19821826]\n",
      "% total accuracy incl. 1 error:  0.7912026726057907\n",
      "              precision    recall  f1-score   support\n",
      "\n",
      "         2.0       0.48      0.57      0.52      2245\n",
      "         3.0       0.39      0.32      0.35      2245\n",
      "         4.0       0.37      0.24      0.30      2245\n",
      "         5.0       0.46      0.61      0.53      2245\n",
      "\n",
      "   micro avg       0.44      0.44      0.44      8980\n",
      "   macro avg       0.43      0.44      0.42      8980\n",
      "weighted avg       0.43      0.44      0.42      8980\n",
      "\n"
     ]
    }
   ],
   "source": [
    "y_predictions = model.predict_classes(X)\n",
    "y_pred = y_predictions+2\n",
    "y_diff = (y_pred) - y.values\n",
    "((y_predictions+2) == y.values).mean()\n",
    "\n",
    "print('% breakdown accuracy incl. 1 error: ',np.unique(y_diff,return_counts=True)[1][2:5]/y_diff.shape[0])\n",
    "print('% total accuracy incl. 1 error: ',np.sum(np.unique(y_diff,return_counts=True)[1][2:5]/y_diff.shape[0]))\n",
    "print(classification_report(y.values,y_pred))"
   ]
  },
  {
   "cell_type": "markdown",
   "metadata": {},
   "source": [
    "# Amzn Electronic Products"
   ]
  },
  {
   "cell_type": "code",
   "execution_count": 78,
   "metadata": {},
   "outputs": [],
   "source": [
    "df = pd.read_csv('1429_1.csv')\n",
    "os.chdir('/home/ubuntu/Notebooks/data')"
   ]
  },
  {
   "cell_type": "code",
   "execution_count": 100,
   "metadata": {},
   "outputs": [
    {
     "name": "stderr",
     "output_type": "stream",
     "text": [
      "/home/ubuntu/anaconda3/envs/tensorflow_p36/lib/python3.6/site-packages/IPython/core/interactiveshell.py:2785: DtypeWarning: Columns (1,10) have mixed types. Specify dtype option on import or set low_memory=False.\n",
      "  interactivity=interactivity, compiler=compiler, result=result)\n"
     ]
    },
    {
     "name": "stdout",
     "output_type": "stream",
     "text": [
      "avg: review length:  35.55999246562441\n"
     ]
    }
   ],
   "source": [
    "os.chdir('/home/ubuntu/Notebooks/data')\n",
    "df = pd.read_csv('1429_1.csv')\n",
    "df = df[['reviews.text','reviews.rating']].replace(1.0,2.0)\n",
    "df.columns = ['text','stars']\n",
    "\n",
    "\n",
    "idx_2 = df[df['stars'] == 2].index\n",
    "idx_3 = df[df['stars'] == 3].index\n",
    "idx_4 = df[df['stars'] == 4].index\n",
    "idx_5 = df[df['stars'] == 5].index\n",
    "\n",
    "np.random.seed(10)\n",
    "sample_idx_2 = np.random.choice(idx_2,replace=False,size=812)\n",
    "sample_idx_3 = np.random.choice(idx_3,replace=False,size=1499)\n",
    "sample_idx_4 = np.random.choice(idx_4,replace=False,size=1499)\n",
    "sample_idx_5 = np.random.choice(idx_5,replace=False,size=1499)\n",
    "\n",
    "df = pd.concat([df.loc[sample_idx_2],\n",
    "           df.loc[sample_idx_3],\n",
    "           df.loc[sample_idx_4],\n",
    "           df.loc[sample_idx_5]],axis=0)\n",
    "\n",
    "X = df['text']\n",
    "y = df['stars']\n",
    "\n",
    "del df\n",
    "print('avg: review length: ',X.apply(lambda x: len(x.split())).mean())\n",
    "X = np.vstack([transform(doc,150,word_dict) for doc in X])"
   ]
  },
  {
   "cell_type": "code",
   "execution_count": 102,
   "metadata": {},
   "outputs": [
    {
     "name": "stdout",
     "output_type": "stream",
     "text": [
      "% breakdown accuracy incl. 1 error:  [0.16198908 0.45526464 0.21774345]\n",
      "% total accuracy incl. 1 error:  0.8349971746091542\n"
     ]
    }
   ],
   "source": [
    "y_predictions = model.predict_classes(X)\n",
    "y_pred = y_predictions+2\n",
    "y_diff = (y_pred) - y.values\n",
    "((y_predictions+2) == y.values).mean()\n",
    "\n",
    "print('% breakdown accuracy incl. 1 error: ',np.unique(y_diff,return_counts=True)[1][2:5]/y_diff.shape[0])\n",
    "print('% total accuracy incl. 1 error: ',np.sum(np.unique(y_diff,return_counts=True)[1][2:5]/y_diff.shape[0]))\n",
    "print(classification_report(y.values,y_pred))"
   ]
  },
  {
   "cell_type": "markdown",
   "metadata": {},
   "source": [
    "# Amzn Automotive Products"
   ]
  },
  {
   "cell_type": "code",
   "execution_count": 79,
   "metadata": {},
   "outputs": [
    {
     "name": "stdout",
     "output_type": "stream",
     "text": [
      "avg: review length:  95.64490621552041\n"
     ]
    }
   ],
   "source": [
    "os.chdir('/home/ubuntu/Notebooks/data')\n",
    "df = pd.read_json('reviews_Automotive_5.json.gz',compression='gzip', lines=True).replace(1.0,2.0)\n",
    "df = df[['reviewText','overall']]\n",
    "df.columns = ['text','stars']\n",
    "\n",
    "\n",
    "idx_2 = df[df['stars'] == 2].index\n",
    "idx_3 = df[df['stars'] == 3].index\n",
    "idx_4 = df[df['stars'] == 4].index\n",
    "idx_5 = df[df['stars'] == 5].index\n",
    "\n",
    "np.random.seed(10)\n",
    "sample_idx_2 = np.random.choice(idx_2,replace=False,size=1148)\n",
    "sample_idx_3 = np.random.choice(idx_3,replace=False,size=1430)\n",
    "sample_idx_4 = np.random.choice(idx_4,replace=False,size=1430)\n",
    "sample_idx_5 = np.random.choice(idx_5,replace=False,size=1430)\n",
    "\n",
    "df = pd.concat([df.loc[sample_idx_2],\n",
    "           df.loc[sample_idx_3],\n",
    "           df.loc[sample_idx_4],\n",
    "           df.loc[sample_idx_5]],axis=0)\n",
    "\n",
    "X = df['text']\n",
    "y = df['stars']\n",
    "\n",
    "del df\n",
    "print('avg: review length: ',X.apply(lambda x: len(x.split())).mean())\n",
    "X = np.vstack([transform(doc,161,word_dict) for doc in X])"
   ]
  },
  {
   "cell_type": "code",
   "execution_count": 80,
   "metadata": {},
   "outputs": [
    {
     "name": "stdout",
     "output_type": "stream",
     "text": [
      "% breakdown accuracy incl. 1 error:  [0.26094152 0.39279147 0.14490622]\n",
      "% total accuracy incl. 1 error:  0.7986392055902906\n",
      "              precision    recall  f1-score   support\n",
      "\n",
      "         2.0       0.39      0.47      0.43      1148\n",
      "         3.0       0.34      0.57      0.43      1430\n",
      "         4.0       0.39      0.29      0.33      1430\n",
      "         5.0       0.59      0.25      0.35      1430\n",
      "\n",
      "   micro avg       0.39      0.39      0.39      5438\n",
      "   macro avg       0.43      0.40      0.39      5438\n",
      "weighted avg       0.43      0.39      0.38      5438\n",
      "\n"
     ]
    }
   ],
   "source": [
    "y_predictions = model.predict_classes(X)\n",
    "y_pred = y_predictions+2\n",
    "y_diff = (y_pred) - y.values\n",
    "((y_predictions+2) == y.values).mean()\n",
    "\n",
    "print('% breakdown accuracy incl. 1 error: ',np.unique(y_diff,return_counts=True)[1][2:5]/y_diff.shape[0])\n",
    "print('% total accuracy incl. 1 error: ',np.sum(np.unique(y_diff,return_counts=True)[1][2:5]/y_diff.shape[0]))\n",
    "print(classification_report(y.values,y_pred))"
   ]
  },
  {
   "cell_type": "markdown",
   "metadata": {},
   "source": [
    "# Amzn Pet Supplies"
   ]
  },
  {
   "cell_type": "code",
   "execution_count": 81,
   "metadata": {},
   "outputs": [
    {
     "name": "stdout",
     "output_type": "stream",
     "text": [
      "avg: review length:  93.7513\n"
     ]
    }
   ],
   "source": [
    "os.chdir('/home/ubuntu/Notebooks/data')\n",
    "df = pd.read_json('reviews_Pet_Supplies_5.json.gz',compression='gzip', lines=True).replace(1.0,2.0)\n",
    "df = df[['reviewText','overall']]\n",
    "df.columns = ['text','stars']\n",
    "\n",
    "\n",
    "idx_2 = df[df['stars'] == 2].index\n",
    "idx_3 = df[df['stars'] == 3].index\n",
    "idx_4 = df[df['stars'] == 4].index\n",
    "idx_5 = df[df['stars'] == 5].index\n",
    "\n",
    "np.random.seed(10)\n",
    "sample_idx_2 = np.random.choice(idx_2,replace=False,size=10000)\n",
    "sample_idx_3 = np.random.choice(idx_3,replace=False,size=10000)\n",
    "sample_idx_4 = np.random.choice(idx_4,replace=False,size=10000)\n",
    "sample_idx_5 = np.random.choice(idx_5,replace=False,size=10000)\n",
    "\n",
    "df = pd.concat([df.loc[sample_idx_2],\n",
    "           df.loc[sample_idx_3],\n",
    "           df.loc[sample_idx_4],\n",
    "           df.loc[sample_idx_5]],axis=0)\n",
    "\n",
    "X = df['text']\n",
    "y = df['stars']\n",
    "\n",
    "del df\n",
    "print('avg: review length: ',X.apply(lambda x: len(x.split())).mean())\n",
    "X = np.vstack([transform(doc,161,word_dict) for doc in X])"
   ]
  },
  {
   "cell_type": "code",
   "execution_count": 82,
   "metadata": {},
   "outputs": [
    {
     "name": "stdout",
     "output_type": "stream",
     "text": [
      "% breakdown accuracy incl. 1 error:  [0.2299 0.4124 0.1732]\n",
      "% total accuracy incl. 1 error:  0.8155\n",
      "              precision    recall  f1-score   support\n",
      "\n",
      "         2.0       0.47      0.46      0.47     10000\n",
      "         3.0       0.34      0.50      0.40     10000\n",
      "         4.0       0.36      0.32      0.34     10000\n",
      "         5.0       0.55      0.37      0.44     10000\n",
      "\n",
      "   micro avg       0.41      0.41      0.41     40000\n",
      "   macro avg       0.43      0.41      0.41     40000\n",
      "weighted avg       0.43      0.41      0.41     40000\n",
      "\n"
     ]
    }
   ],
   "source": [
    "y_predictions = model.predict_classes(X)\n",
    "y_pred = y_predictions+2\n",
    "y_diff = (y_pred) - y.values\n",
    "((y_predictions+2) == y.values).mean()\n",
    "\n",
    "print('% breakdown accuracy incl. 1 error: ',np.unique(y_diff,return_counts=True)[1][2:5]/y_diff.shape[0])\n",
    "print('% total accuracy incl. 1 error: ',np.sum(np.unique(y_diff,return_counts=True)[1][2:5]/y_diff.shape[0]))\n",
    "print(classification_report(y.values,y_pred))"
   ]
  },
  {
   "cell_type": "markdown",
   "metadata": {},
   "source": [
    "# Amzn Digital Music"
   ]
  },
  {
   "cell_type": "code",
   "execution_count": 83,
   "metadata": {},
   "outputs": [
    {
     "name": "stdout",
     "output_type": "stream",
     "text": [
      "avg: review length:  191.34343216686779\n"
     ]
    }
   ],
   "source": [
    "os.chdir('/home/ubuntu/Notebooks/data')\n",
    "df = pd.read_json('reviews_Digital_Music_5.json.gz',compression='gzip', lines=True).replace(1.0,2.0)\n",
    "df = df[['reviewText','overall']]\n",
    "df.columns = ['text','stars']\n",
    "\n",
    "\n",
    "idx_2 = df[df['stars'] == 2].index\n",
    "idx_3 = df[df['stars'] == 3].index\n",
    "idx_4 = df[df['stars'] == 4].index\n",
    "idx_5 = df[df['stars'] == 5].index\n",
    "\n",
    "np.random.seed(10)\n",
    "sample_idx_2 = np.random.choice(idx_2,replace=False,size=5801)\n",
    "sample_idx_3 = np.random.choice(idx_3,replace=False,size=5801)\n",
    "sample_idx_4 = np.random.choice(idx_4,replace=False,size=5801)\n",
    "sample_idx_5 = np.random.choice(idx_5,replace=False,size=5801)\n",
    "\n",
    "df = pd.concat([df.loc[sample_idx_2],\n",
    "           df.loc[sample_idx_3],\n",
    "           df.loc[sample_idx_4],\n",
    "           df.loc[sample_idx_5]],axis=0)\n",
    "\n",
    "X = df['text']\n",
    "y = df['stars']\n",
    "\n",
    "del df\n",
    "print('avg: review length: ',X.apply(lambda x: len(x.split())).mean())\n",
    "X = np.vstack([transform(doc,161,word_dict) for doc in X])"
   ]
  },
  {
   "cell_type": "code",
   "execution_count": 84,
   "metadata": {},
   "outputs": [
    {
     "name": "stdout",
     "output_type": "stream",
     "text": [
      "% breakdown accuracy incl. 1 error:  [0.1828995  0.40225823 0.18996725]\n",
      "% total accuracy incl. 1 error:  0.775124978451991\n",
      "              precision    recall  f1-score   support\n",
      "\n",
      "         2.0       0.44      0.51      0.48      5801\n",
      "         3.0       0.35      0.45      0.39      5801\n",
      "         4.0       0.36      0.20      0.26      5801\n",
      "         5.0       0.45      0.45      0.45      5801\n",
      "\n",
      "   micro avg       0.40      0.40      0.40     23204\n",
      "   macro avg       0.40      0.40      0.39     23204\n",
      "weighted avg       0.40      0.40      0.39     23204\n",
      "\n"
     ]
    }
   ],
   "source": [
    "y_predictions = model.predict_classes(X)\n",
    "y_pred = y_predictions+2\n",
    "y_diff = (y_pred) - y.values\n",
    "((y_predictions+2) == y.values).mean()\n",
    "\n",
    "print('% breakdown accuracy incl. 1 error: ',np.unique(y_diff,return_counts=True)[1][2:5]/y_diff.shape[0])\n",
    "print('% total accuracy incl. 1 error: ',np.sum(np.unique(y_diff,return_counts=True)[1][2:5]/y_diff.shape[0]))\n",
    "print(classification_report(y.values,y_pred))"
   ]
  },
  {
   "cell_type": "code",
   "execution_count": 88,
   "metadata": {},
   "outputs": [],
   "source": [
    "datasets = np.asarray(['trip advisor reviews','hotels','yelp restaurants','movies',\n",
    "            'kindles/tablets','automotive','pet supplies'])#,'music'])\n",
    "dataset_counts = np.asarray([set for set in range(len(datasets))])\n",
    "accuracy = np.asarray([.587,.566,0.563,.437,.456,.392,.412])#,.407])\n",
    "error_accuracy = np.asarray([.957,.917,0.922,.791,.835,.798,.816])#,.749])"
   ]
  },
  {
   "cell_type": "code",
   "execution_count": 89,
   "metadata": {},
   "outputs": [
    {
     "data": {
      "image/png": "[encoded data removed]",
      "text/plain": [
       "<Figure size 1152x288 with 1 Axes>"
      ]
     },
     "metadata": {},
     "output_type": "display_data"
    }
   ],
   "source": [
    "import matplotlib.pyplot as plt\n",
    "%matplotlib inline\n",
    "fig,ax = plt.subplots(1,figsize=(16,4))\n",
    "ax.bar(dataset_counts[3:],error_accuracy[3:],label=\"products score +/- 1 star accuracy\",color=[(0.1, 0.2, 0.5, 0.3),\n",
    "                                                       (0.1, 0.2, 0.5, 0.3),\n",
    "                                                       (0.1, 0.2, 0.5, 0.3),\n",
    "                                                       (0.1, 0.2, 0.5, 0.3)])\n",
    "\n",
    "ax.bar(dataset_counts[:3],error_accuracy[:3],label=\"services score +/- 1 star accuracy\",color=[(0.1, 0.2, 0.5),\n",
    "                                                       (0.1, 0.2, 0.5),\n",
    "                                                       (0.1, 0.2, 0.5)],alpha=.8)\n",
    "\n",
    "ax.set_ylim(.35,1.1)\n",
    "ax.axhline(.65,linestyle='--',linewidth=1,color='blue',label='random selection line')\n",
    "ax.set_xticks(dataset_counts)\n",
    "ax.set_xticklabels(datasets,rotation=20,fontsize=12)\n",
    "ax.text(6.02,.27,'random_acc_line',color='white',horizontalalignment='center',fontsize=10)\n",
    "# ax.text(7.04,.67,'random_err_acc_line',color='red',horizontalalignment='center',fontsize=12)\n",
    "ax.set_ylabel('percent %',fontsize=13)\n",
    "ax.bar(dataset_counts,accuracy,label='perfect accuracy',color='red',linestyle='--',alpha=.2)\n",
    "# ax.axhline(.65,linestyle='--',color='red',linewidth=1)\n",
    "ax.set_title('Trip Advisor Sentiment Model Performance Chart')\n",
    "# ax.set_yticks([])\n",
    "for i in dataset_counts:\n",
    "    ax.text(i,error_accuracy[i]+error_accuracy[i]*.02,'{}'.format(error_accuracy[i]),horizontalalignment='center')\n",
    "ax.legend(loc='upper right')\n",
    "plt.show()"
   ]
  },
  {
   "cell_type": "code",
   "execution_count": 90,
   "metadata": {},
   "outputs": [],
   "source": [
    "service_accuracies = accuracy[:3]\n",
    "product_accuracies = accuracy[3:]"
   ]
  },
  {
   "cell_type": "code",
   "execution_count": 91,
   "metadata": {},
   "outputs": [],
   "source": [
    "import scipy.stats as stats\n",
    "t_score = stats.t.ppf(1-0.05, 4)\n",
    "\n",
    "pa_mean = product_accuracies.mean()\n",
    "sa_mean = service_accuracies.mean()\n",
    "pa_var = product_accuracies.var()\n",
    "sa_var = service_accuracies.var()\n",
    "pa_sample_size = len(product_accuracies)\n",
    "sa_sample_size = len(service_accuracies)\n",
    "df = pa_sample_size + sa_sample_size -2\n",
    "\n",
    "CI = stats.t.ppf(.95,5) * ((pa_var/(pa_sample_size-1))+(sa_var/(sa_sample_size-1)))**.5"
   ]
  },
  {
   "cell_type": "code",
   "execution_count": 92,
   "metadata": {},
   "outputs": [
    {
     "data": {
      "text/plain": [
       "0.03209746047209532"
      ]
     },
     "execution_count": 92,
     "metadata": {},
     "output_type": "execute_result"
    }
   ],
   "source": [
    "CI"
   ]
  },
  {
   "cell_type": "code",
   "execution_count": null,
   "metadata": {},
   "outputs": [],
   "source": [
    "#       (Xhat1 - Xhat2) - (u1 - u2)\n",
    "# t =  -----------------------------\n",
    "#       Sqrt(s1^2/n1 + s2^2/n2)"
   ]
  },
  {
   "cell_type": "code",
   "execution_count": 93,
   "metadata": {},
   "outputs": [
    {
     "data": {
      "text/plain": [
       "10.846775897400152"
      ]
     },
     "execution_count": 93,
     "metadata": {},
     "output_type": "execute_result"
    }
   ],
   "source": [
    "(sa_mean-pa_mean)/((pa_var/pa_sample_size)+(sa_var/sa_sample_size))**(.5)"
   ]
  },
  {
   "cell_type": "code",
   "execution_count": 94,
   "metadata": {},
   "outputs": [],
   "source": [
    "CI = (sa_mean-pa_mean) + stats.t.ppf(.95,5)*((pa_var/pa_sample_size)+(sa_var/sa_sample_size))**(.5)"
   ]
  },
  {
   "cell_type": "code",
   "execution_count": 95,
   "metadata": {},
   "outputs": [
    {
     "data": {
      "text/plain": [
       "0.17519810069628414"
      ]
     },
     "execution_count": 95,
     "metadata": {},
     "output_type": "execute_result"
    }
   ],
   "source": [
    "CI"
   ]
  },
  {
   "cell_type": "code",
   "execution_count": 96,
   "metadata": {},
   "outputs": [
    {
     "data": {
      "text/plain": [
       "array([0.456, 0.392, 0.412])"
      ]
     },
     "execution_count": 96,
     "metadata": {},
     "output_type": "execute_result"
    }
   ],
   "source": [
    "accuracy[:2].mean()\n",
    "accuracy[4:]"
   ]
  },
  {
   "cell_type": "code",
   "execution_count": 97,
   "metadata": {},
   "outputs": [
    {
     "ename": "NameError",
     "evalue": "name 'Xa' is not defined",
     "output_type": "error",
     "traceback": [
      "\u001b[0;31m---------------------------------------------------------------------------\u001b[0m",
      "\u001b[0;31mNameError\u001b[0m                                 Traceback (most recent call last)",
      "\u001b[0;32m<ipython-input-97-09cadd47606f>\u001b[0m in \u001b[0;36m<module>\u001b[0;34m()\u001b[0m\n\u001b[0;32m----> 1\u001b[0;31m \u001b[0mCiUpper\u001b[0m \u001b[0;34m=\u001b[0m \u001b[0mXa\u001b[0m\u001b[0;34m-\u001b[0m\u001b[0mXv\u001b[0m \u001b[0;34m+\u001b[0m \u001b[0mst\u001b[0m\u001b[0;34m.\u001b[0m\u001b[0mnorm\u001b[0m\u001b[0;34m.\u001b[0m\u001b[0mppf\u001b[0m\u001b[0;34m(\u001b[0m\u001b[0;36m.975\u001b[0m\u001b[0;34m,\u001b[0m\u001b[0;34m)\u001b[0m\u001b[0;34m*\u001b[0m\u001b[0;34m(\u001b[0m\u001b[0;34m(\u001b[0m\u001b[0mSDv\u001b[0m\u001b[0;34m**\u001b[0m\u001b[0;36m2\u001b[0m\u001b[0;34m/\u001b[0m\u001b[0mNv\u001b[0m\u001b[0;34m)\u001b[0m\u001b[0;34m+\u001b[0m\u001b[0;34m(\u001b[0m\u001b[0mSDa\u001b[0m\u001b[0;34m**\u001b[0m\u001b[0;36m2\u001b[0m\u001b[0;34m/\u001b[0m\u001b[0mNa\u001b[0m\u001b[0;34m)\u001b[0m\u001b[0;34m)\u001b[0m\u001b[0;34m**\u001b[0m\u001b[0;36m.5\u001b[0m\u001b[0;34m\u001b[0m\u001b[0m\n\u001b[0m",
      "\u001b[0;31mNameError\u001b[0m: name 'Xa' is not defined"
     ]
    }
   ],
   "source": [
    "CiUpper = Xa-Xv + st.norm.ppf(.975,)*((SDv**2/Nv)+(SDa**2/Na))**.5"
   ]
  },
  {
   "cell_type": "code",
   "execution_count": 98,
   "metadata": {},
   "outputs": [
    {
     "name": "stdout",
     "output_type": "stream",
     "text": [
      "0.42425\n",
      "0.572\n",
      "0.0005901875000000001\n",
      "0.00011400000000000021\n",
      "4\n",
      "3\n"
     ]
    }
   ],
   "source": [
    "print(pa_mean)\n",
    "print(sa_mean)\n",
    "print(pa_var)\n",
    "print(sa_var)\n",
    "print(pa_sample_size)\n",
    "print(sa_sample_size)"
   ]
  },
  {
   "cell_type": "code",
   "execution_count": 403,
   "metadata": {},
   "outputs": [
    {
     "data": {
      "text/plain": [
       "array([ 1,  1,  3,  3,  2,  1,  1, 10,  2,  1])"
      ]
     },
     "execution_count": 403,
     "metadata": {},
     "output_type": "execute_result"
    }
   ],
   "source": [
    "np.random.choice([1,2,3,10],size=10,replace=True)"
   ]
  },
  {
   "cell_type": "code",
   "execution_count": 99,
   "metadata": {},
   "outputs": [
    {
     "data": {
      "text/plain": [
       "0.014440207754738156"
      ]
     },
     "execution_count": 99,
     "metadata": {},
     "output_type": "execute_result"
    }
   ],
   "source": [
    "def sample_mean_diff(series1,series2):\n",
    "    return (np.sum(series1)/(len(series1)-1)) - (sum(series2)/(len(series2)-1))\n",
    "\n",
    "def bootstrap(series1,series2,n):\n",
    "    list_of_means = []\n",
    "    for i in range(n):\n",
    "        list_of_means.append(round(np.mean(np.random.choice(series1,size=len(series1),replace=True))\\\n",
    "                            -np.mean(np.random.choice(series2,size=len(series2),replace=True)),2))\n",
    "    return list_of_means\n",
    "\n",
    "def sample_mean(series):\n",
    "    return np.sum(series) / (len(series) - 1)\n",
    "\n",
    "sample_averages = bootstrap(service_accuracies,product_accuracies,500)\n",
    "\n",
    "np.std(sample_averages)"
   ]
  },
  {
   "cell_type": "code",
   "execution_count": 100,
   "metadata": {},
   "outputs": [],
   "source": [
    "import seaborn as sns"
   ]
  },
  {
   "cell_type": "code",
   "execution_count": 105,
   "metadata": {},
   "outputs": [
    {
     "name": "stderr",
     "output_type": "stream",
     "text": [
      "/home/ubuntu/anaconda3/envs/tensorflow_p36/lib/python3.6/site-packages/scipy/stats/stats.py:1713: FutureWarning: Using a non-tuple sequence for multidimensional indexing is deprecated; use `arr[tuple(seq)]` instead of `arr[seq]`. In the future this will be interpreted as an array index, `arr[np.array(seq)]`, which will result either in an error or a different result.\n",
      "  return np.add.reduce(sorted[indexer] * weights, axis=axis) / sumval\n"
     ]
    },
    {
     "data": {
      "text/plain": [
       "<matplotlib.legend.Legend at 0x7f6acde66358>"
      ]
     },
     "execution_count": 105,
     "metadata": {},
     "output_type": "execute_result"
    },
    {
     "data": {
      "image/png": "[encoded data removed]",
      "text/plain": [
       "<Figure size 1008x360 with 1 Axes>"
      ]
     },
     "metadata": {},
     "output_type": "display_data"
    }
   ],
   "source": [
    "fig, ax = plt.subplots(1,figsize=(14,5))\n",
    "normal_approx = stats.norm(0, np.std(sample_averages))\n",
    "x1 = np.linspace(min(sample_averages),max(sample_averages),len(sample_averages))\n",
    "# sns.distplot(sample_averages,bins=25,ax=ax,hist=False,label='Value Hotel-Airbnb Mean Diff')\n",
    "\n",
    "\n",
    "# sns.distplot(value_averages,bins=25,ax=ax[1],label='Value_Score_Mean_Diff')\n",
    "# sns.distplot(sample_averages,bins=25,ax=ax[1],label='Overall_Score_Mean_Diff',hist=False)\n",
    "# ax[0].set_title('Value vs. Overall Airbnb Mean Score Difference')\n",
    "sns.distplot(sample_averages,bins=25,ax=ax,label='Overall_Score_Mean_Diff',hist=False)\n",
    "x = np.linspace(normal_approx.ppf(.000001), .2, num=500)\n",
    "ax.set_title('Sample Mean Diff vs. Hypothesized Mean Diff',fontsize=15)\n",
    "ax.set_xlabel('mean difference',fontsize=15)\n",
    "ax.set_ylim(0,30)\n",
    "ax.plot(x,normal_approx.pdf(x),label='Null_Hypothesis_Mean_Diff')\n",
    "# ax.axvline(x=normal_approx.ppf(.025), color = 'red',alpha=.5,label='.95 CI',linestyle='--')\n",
    "ax.axvline(x=normal_approx.ppf(.95), color = 'red',alpha=.5,linestyle='--')\n",
    "ax.legend()"
   ]
  },
  {
   "cell_type": "code",
   "execution_count": 408,
   "metadata": {},
   "outputs": [
    {
     "data": {
      "text/plain": [
       "array([0.559, 0.615, 0.559])"
      ]
     },
     "execution_count": 408,
     "metadata": {},
     "output_type": "execute_result"
    }
   ],
   "source": [
    "np.random.choice(service_accuracies,size=len(service_accuracies),replace=True)"
   ]
  },
  {
   "cell_type": "code",
   "execution_count": 411,
   "metadata": {},
   "outputs": [],
   "source": [
    "def bootstrap(series1,series2,n):\n",
    "    list_of_means = []\n",
    "    for i in range(n):\n",
    "        list_of_means.append(round(sample_mean(np.random.choice(series1,size=len(series1),replace=True))\\\n",
    "                            -sample_mean(np.random.choice(series2,size=len(series2),replace=True)),2))\n",
    "    return list_of_means"
   ]
  },
  {
   "cell_type": "markdown",
   "metadata": {},
   "source": [
    "# Airbnb Check"
   ]
  },
  {
   "cell_type": "code",
   "execution_count": 112,
   "metadata": {},
   "outputs": [
    {
     "name": "stdout",
     "output_type": "stream",
     "text": [
      "avg: review length:  48.0437\n"
     ]
    }
   ],
   "source": [
    "df = pd.read_pickle('df_reviews.pickle')\n",
    "df = df.drop_duplicates()\n",
    "# df = df[['comments']]\n",
    "\n",
    "df2 = pd.read_pickle('df_listings.pickle')\n",
    "df2 = df2[['id','review_scores_rating']]\n",
    "df2.columns = ['listing_id','stars']\n",
    "df2 = df2.groupby('listing_id')[['stars']].min().apply(lambda x: np.round(x/20)).replace(0.0,\n",
    "                                                                                                2.0).replace(1.0\n",
    "                                                                                                             ,2.0)\n",
    "df = df.merge(df2,how='left',on='listing_id')\n",
    "df = df[['comments','stars']].sample(40000)\n",
    "df.columns = ['text','stars']\n",
    "\n",
    "# idx_2 = df[df['stars'] == 2].index\n",
    "# idx_3 = df[df['stars'] == 3].index\n",
    "# idx_4 = df[df['stars'] == 4].index\n",
    "# idx_5 = df[df['stars'] == 5].index\n",
    "\n",
    "# np.random.seed(10)\n",
    "# sample_idx_2 = np.random.choice(idx_2,replace=False,size=847)\n",
    "# sample_idx_3 = np.random.choice(idx_3,replace=False,size=4263)\n",
    "# sample_idx_4 = np.random.choice(idx_4,replace=False,size=4263)\n",
    "# sample_idx_5 = np.random.choice(idx_5,replace=False,size=4263)\n",
    "\n",
    "# df = pd.concat([df.loc[sample_idx_2],\n",
    "#            df.loc[sample_idx_3],\n",
    "#            df.loc[sample_idx_4],\n",
    "#            df.loc[sample_idx_5]],axis=0)\n",
    "\n",
    "\n",
    "\n",
    "X = df['text']\n",
    "y = df['stars']\n",
    "\n",
    "del df\n",
    "print('avg: review length: ',X.apply(lambda x: len(x.split())).mean())\n",
    "X = np.vstack([transform(doc,161,word_dict) for doc in X])"
   ]
  },
  {
   "cell_type": "code",
   "execution_count": 113,
   "metadata": {},
   "outputs": [
    {
     "name": "stdout",
     "output_type": "stream",
     "text": [
      "% breakdown accuracy incl. 1 error:  [0.14835  0.715525 0.0818  ]\n",
      "% total accuracy incl. 1 error:  0.9456749999999999\n"
     ]
    }
   ],
   "source": [
    "y_predictions = model.predict_classes(X)\n",
    "\n",
    "y_predictions = model.predict_classes(X)\n",
    "y_diff = (y_predictions+2) - y.values\n",
    "((y_predictions+2) == y.values).mean()\n",
    "\n",
    "print('% breakdown accuracy incl. 1 error: ',np.unique(y_diff,return_counts=True)[1][2:5]/y_diff.shape[0])\n",
    "print('% total accuracy incl. 1 error: ',np.sum(np.unique(y_diff,return_counts=True)[1][2:5]/y_diff.shape[0]))"
   ]
  },
  {
   "cell_type": "code",
   "execution_count": 27,
   "metadata": {},
   "outputs": [
    {
     "data": {
      "text/plain": [
       "array([   21,   131,  5357, 34314])"
      ]
     },
     "execution_count": 27,
     "metadata": {},
     "output_type": "execute_result"
    }
   ],
   "source": [
    "y.value_counts().sort_values().values"
   ]
  },
  {
   "cell_type": "code",
   "execution_count": 56,
   "metadata": {},
   "outputs": [
    {
     "data": {
      "text/plain": [
       "Text(0, 0.5, 'Count')"
      ]
     },
     "execution_count": 56,
     "metadata": {},
     "output_type": "execute_result"
    },
    {
     "data": {
      "image/png": "[encoded data removed]",
      "text/plain": [
       "<Figure size 576x360 with 1 Axes>"
      ]
     },
     "metadata": {},
     "output_type": "display_data"
    }
   ],
   "source": [
    "ybar_pred = np.unique(y_predictions,return_counts=True)[1]\n",
    "xbar_pred = [2,3,4,5]\n",
    "ybar_test = y.value_counts().sort_values().values\n",
    "xbar_test = [2,3,4,5]\n",
    "\n",
    "fig,ax = plt.subplots(figsize=(8,5))\n",
    "ax.bar(xbar_test,ybar_test,color='orchid')\n",
    "ax.bar(xbar_pred,ybar_pred,width=.4,alpha=.6,color='black')\n",
    "\n",
    "ax.set_title('Predicting Airbnb Review Scores',fontsize=15)\n",
    "ax.set_xlabel('Scores (2-5)',fontsize=15)\n",
    "ax.set_ylabel('Count',fontsize=15)\n",
    "\n",
    "#plt.bar(xbar_test,ybar_test)"
   ]
  },
  {
   "cell_type": "code",
   "execution_count": 12,
   "metadata": {},
   "outputs": [
    {
     "name": "stderr",
     "output_type": "stream",
     "text": [
      "/home/ubuntu/anaconda3/envs/tensorflow_p36/lib/python3.6/site-packages/numpy/lib/histograms.py:754: RuntimeWarning: invalid value encountered in greater_equal\n",
      "  keep = (tmp_a >= first_edge)\n",
      "/home/ubuntu/anaconda3/envs/tensorflow_p36/lib/python3.6/site-packages/numpy/lib/histograms.py:755: RuntimeWarning: invalid value encountered in less_equal\n",
      "  keep &= (tmp_a <= last_edge)\n"
     ]
    },
    {
     "data": {
      "text/plain": [
       "(array([2.1000e+01, 0.0000e+00, 0.0000e+00, 1.3100e+02, 0.0000e+00,\n",
       "        0.0000e+00, 5.3570e+03, 0.0000e+00, 0.0000e+00, 3.4314e+04]),\n",
       " array([2. , 2.3, 2.6, 2.9, 3.2, 3.5, 3.8, 4.1, 4.4, 4.7, 5. ]),\n",
       " <a list of 10 Patch objects>)"
      ]
     },
     "execution_count": 12,
     "metadata": {},
     "output_type": "execute_result"
    },
    {
     "data": {
      "image/png": "[encoded data removed]",
      "text/plain": [
       "<Figure size 432x288 with 1 Axes>"
      ]
     },
     "metadata": {},
     "output_type": "display_data"
    }
   ],
   "source": [
    "plt.hist(y_predictions+2)\n",
    "plt.hist(y)"
   ]
  },
  {
   "cell_type": "code",
   "execution_count": 65,
   "metadata": {},
   "outputs": [
    {
     "data": {
      "text/plain": [
       "[<matplotlib.axis.XTick at 0x7f1180770d30>,\n",
       " <matplotlib.axis.XTick at 0x7f11807706a0>,\n",
       " <matplotlib.axis.XTick at 0x7f11807703c8>,\n",
       " <matplotlib.axis.XTick at 0x7f118050cb38>]"
      ]
     },
     "execution_count": 65,
     "metadata": {},
     "output_type": "execute_result"
    },
    {
     "data": {
      "image/png": "[encoded data removed]",
      "text/plain": [
       "<Figure size 504x360 with 1 Axes>"
      ]
     },
     "metadata": {},
     "output_type": "display_data"
    }
   ],
   "source": [
    "fig, ax = plt.subplots(1,figsize=(7,5))\n",
    "# plt.hist(y)\n",
    "\n",
    "ax.hist(y,alpha=.5,color='yellow')\n",
    "ax.hist(y_predictions+2,alpha=.6,color='blue')\n",
    "ax.set_xlabel('classes',fontsize=13)\n",
    "ax.set_ylabel('count',fontsize=13)\n",
    "ax.set_title('Airbnb balanced predictions vs aggregated totals')\n",
    "\n",
    "ticks = [2,3,4,5]\n",
    "ax.set_xticks(ticks)\n"
   ]
  },
  {
   "cell_type": "code",
   "execution_count": 2,
   "metadata": {},
   "outputs": [],
   "source": [
    "import string"
   ]
  },
  {
   "cell_type": "code",
   "execution_count": 4,
   "metadata": {},
   "outputs": [
    {
     "data": {
      "text/plain": [
       "'!\"#$%&\\'()*+,-./:;<=>?@[\\\\]^_`{|}~'"
      ]
     },
     "execution_count": 4,
     "metadata": {},
     "output_type": "execute_result"
    }
   ],
   "source": [
    "string.punctuation"
   ]
  }
 ],
 "metadata": {
  "kernelspec": {
   "display_name": "Python [conda env:tensorflow_p36]",
   "language": "python",
   "name": "conda-env-tensorflow_p36-py"
  },
  "language_info": {
   "codemirror_mode": {
    "name": "ipython",
    "version": 3
   },
   "file_extension": ".py",
   "mimetype": "text/x-python",
   "name": "python",
   "nbconvert_exporter": "python",
   "pygments_lexer": "ipython3",
   "version": "3.6.5"
  }
 },
 "nbformat": 4,
 "nbformat_minor": 2
}
